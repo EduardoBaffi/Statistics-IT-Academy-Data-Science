{
 "cells": [
  {
   "cell_type": "markdown",
   "id": "d3719a5f",
   "metadata": {},
   "source": [
    "## S07 T01: Tasca dades, probabilitats i estadístiques - Eduardo Baffi¶"
   ]
  },
  {
   "cell_type": "markdown",
   "id": "8b567fd7",
   "metadata": {},
   "source": [
    "### Descripció\n",
    "Aprèn a realitzar estadístiques amb Python.\n",
    "\n",
    "### Nivell 1\n",
    "#### - Exercici 1\n",
    "Agafa un conjunt de dades de tema esportiu que t'agradi i selecciona un atribut del conjunt de dades. Calcula la moda, la mediana, la desviació estàndard i la mitjana aritmètica. "
   ]
  },
  {
   "cell_type": "code",
   "execution_count": 71,
   "id": "ced1d7d4",
   "metadata": {},
   "outputs": [],
   "source": [
    "# importing libraries\n",
    "import numpy as np\n",
    "import pandas as pd\n",
    "import matplotlib.pyplot as plt\n",
    "import warnings\n",
    "\n",
    "warnings.filterwarnings('ignore')"
   ]
  },
  {
   "cell_type": "markdown",
   "id": "b7a3f6b5",
   "metadata": {},
   "source": [
    "Dataset del Tour de France (bicycle race)\n",
    "\n",
    "Source: https://www.kaggle.com/pablomonleon/tour-de-france-historic-stages-data"
   ]
  },
  {
   "cell_type": "code",
   "execution_count": 72,
   "id": "f4b228bf",
   "metadata": {},
   "outputs": [
    {
     "data": {
      "text/html": [
       "<div>\n",
       "<style scoped>\n",
       "    .dataframe tbody tr th:only-of-type {\n",
       "        vertical-align: middle;\n",
       "    }\n",
       "\n",
       "    .dataframe tbody tr th {\n",
       "        vertical-align: top;\n",
       "    }\n",
       "\n",
       "    .dataframe thead th {\n",
       "        text-align: right;\n",
       "    }\n",
       "</style>\n",
       "<table border=\"1\" class=\"dataframe\">\n",
       "  <thead>\n",
       "    <tr style=\"text-align: right;\">\n",
       "      <th></th>\n",
       "      <th>edition</th>\n",
       "      <th>year</th>\n",
       "      <th>stage_results_id</th>\n",
       "      <th>rank</th>\n",
       "      <th>time</th>\n",
       "      <th>rider</th>\n",
       "      <th>age</th>\n",
       "      <th>team</th>\n",
       "      <th>points</th>\n",
       "      <th>elapsed</th>\n",
       "      <th>bib_number</th>\n",
       "    </tr>\n",
       "  </thead>\n",
       "  <tbody>\n",
       "    <tr>\n",
       "      <th>0</th>\n",
       "      <td>1</td>\n",
       "      <td>1903</td>\n",
       "      <td>stage-1</td>\n",
       "      <td>1</td>\n",
       "      <td>13S</td>\n",
       "      <td>Garin Maurice</td>\n",
       "      <td>32.0</td>\n",
       "      <td>NaN</td>\n",
       "      <td>100.0</td>\n",
       "      <td>13S</td>\n",
       "      <td>NaN</td>\n",
       "    </tr>\n",
       "    <tr>\n",
       "      <th>1</th>\n",
       "      <td>1</td>\n",
       "      <td>1903</td>\n",
       "      <td>stage-1</td>\n",
       "      <td>2</td>\n",
       "      <td>55S</td>\n",
       "      <td>Pagie Émile</td>\n",
       "      <td>32.0</td>\n",
       "      <td>NaN</td>\n",
       "      <td>70.0</td>\n",
       "      <td>8S</td>\n",
       "      <td>NaN</td>\n",
       "    </tr>\n",
       "    <tr>\n",
       "      <th>2</th>\n",
       "      <td>1</td>\n",
       "      <td>1903</td>\n",
       "      <td>stage-1</td>\n",
       "      <td>3</td>\n",
       "      <td>59S</td>\n",
       "      <td>Georget Léon</td>\n",
       "      <td>23.0</td>\n",
       "      <td>NaN</td>\n",
       "      <td>50.0</td>\n",
       "      <td>12S</td>\n",
       "      <td>NaN</td>\n",
       "    </tr>\n",
       "    <tr>\n",
       "      <th>3</th>\n",
       "      <td>1</td>\n",
       "      <td>1903</td>\n",
       "      <td>stage-1</td>\n",
       "      <td>4</td>\n",
       "      <td>48S</td>\n",
       "      <td>Augereau Fernand</td>\n",
       "      <td>20.0</td>\n",
       "      <td>NaN</td>\n",
       "      <td>40.0</td>\n",
       "      <td>1S</td>\n",
       "      <td>NaN</td>\n",
       "    </tr>\n",
       "    <tr>\n",
       "      <th>4</th>\n",
       "      <td>1</td>\n",
       "      <td>1903</td>\n",
       "      <td>stage-1</td>\n",
       "      <td>5</td>\n",
       "      <td>53S</td>\n",
       "      <td>Fischer Jean</td>\n",
       "      <td>36.0</td>\n",
       "      <td>NaN</td>\n",
       "      <td>32.0</td>\n",
       "      <td>6S</td>\n",
       "      <td>NaN</td>\n",
       "    </tr>\n",
       "  </tbody>\n",
       "</table>\n",
       "</div>"
      ],
      "text/plain": [
       "   edition  year stage_results_id rank time             rider   age  team  \\\n",
       "0        1  1903          stage-1    1  13S     Garin Maurice  32.0   NaN   \n",
       "1        1  1903          stage-1    2  55S       Pagie Émile  32.0   NaN   \n",
       "2        1  1903          stage-1    3  59S      Georget Léon  23.0   NaN   \n",
       "3        1  1903          stage-1    4  48S  Augereau Fernand  20.0   NaN   \n",
       "4        1  1903          stage-1    5  53S      Fischer Jean  36.0   NaN   \n",
       "\n",
       "   points elapsed bib_number  \n",
       "0   100.0     13S        NaN  \n",
       "1    70.0      8S        NaN  \n",
       "2    50.0     12S        NaN  \n",
       "3    40.0      1S        NaN  \n",
       "4    32.0      6S        NaN  "
      ]
     },
     "execution_count": 72,
     "metadata": {},
     "output_type": "execute_result"
    }
   ],
   "source": [
    "stages_df = pd.read_csv('stage_data.csv')\n",
    "stages_df.head()"
   ]
  },
  {
   "cell_type": "code",
   "execution_count": 73,
   "id": "3950479b",
   "metadata": {},
   "outputs": [
    {
     "data": {
      "text/html": [
       "<div>\n",
       "<style scoped>\n",
       "    .dataframe tbody tr th:only-of-type {\n",
       "        vertical-align: middle;\n",
       "    }\n",
       "\n",
       "    .dataframe tbody tr th {\n",
       "        vertical-align: top;\n",
       "    }\n",
       "\n",
       "    .dataframe thead th {\n",
       "        text-align: right;\n",
       "    }\n",
       "</style>\n",
       "<table border=\"1\" class=\"dataframe\">\n",
       "  <thead>\n",
       "    <tr style=\"text-align: right;\">\n",
       "      <th></th>\n",
       "      <th>edition</th>\n",
       "      <th>year</th>\n",
       "      <th>stage_results_id</th>\n",
       "      <th>rank</th>\n",
       "      <th>time</th>\n",
       "      <th>rider</th>\n",
       "      <th>age</th>\n",
       "      <th>team</th>\n",
       "      <th>points</th>\n",
       "      <th>elapsed</th>\n",
       "      <th>bib_number</th>\n",
       "    </tr>\n",
       "  </thead>\n",
       "  <tbody>\n",
       "    <tr>\n",
       "      <th>0</th>\n",
       "      <td>1</td>\n",
       "      <td>1903</td>\n",
       "      <td>stage-1</td>\n",
       "      <td>1</td>\n",
       "      <td>13S</td>\n",
       "      <td>Garin Maurice</td>\n",
       "      <td>32.0</td>\n",
       "      <td>NaN</td>\n",
       "      <td>100.0</td>\n",
       "      <td>13S</td>\n",
       "      <td>NaN</td>\n",
       "    </tr>\n",
       "    <tr>\n",
       "      <th>1</th>\n",
       "      <td>1</td>\n",
       "      <td>1903</td>\n",
       "      <td>stage-1</td>\n",
       "      <td>2</td>\n",
       "      <td>55S</td>\n",
       "      <td>Pagie Émile</td>\n",
       "      <td>32.0</td>\n",
       "      <td>NaN</td>\n",
       "      <td>70.0</td>\n",
       "      <td>8S</td>\n",
       "      <td>NaN</td>\n",
       "    </tr>\n",
       "    <tr>\n",
       "      <th>2</th>\n",
       "      <td>1</td>\n",
       "      <td>1903</td>\n",
       "      <td>stage-1</td>\n",
       "      <td>3</td>\n",
       "      <td>59S</td>\n",
       "      <td>Georget Léon</td>\n",
       "      <td>23.0</td>\n",
       "      <td>NaN</td>\n",
       "      <td>50.0</td>\n",
       "      <td>12S</td>\n",
       "      <td>NaN</td>\n",
       "    </tr>\n",
       "    <tr>\n",
       "      <th>3</th>\n",
       "      <td>1</td>\n",
       "      <td>1903</td>\n",
       "      <td>stage-1</td>\n",
       "      <td>4</td>\n",
       "      <td>48S</td>\n",
       "      <td>Augereau Fernand</td>\n",
       "      <td>20.0</td>\n",
       "      <td>NaN</td>\n",
       "      <td>40.0</td>\n",
       "      <td>1S</td>\n",
       "      <td>NaN</td>\n",
       "    </tr>\n",
       "    <tr>\n",
       "      <th>4</th>\n",
       "      <td>1</td>\n",
       "      <td>1903</td>\n",
       "      <td>stage-1</td>\n",
       "      <td>5</td>\n",
       "      <td>53S</td>\n",
       "      <td>Fischer Jean</td>\n",
       "      <td>36.0</td>\n",
       "      <td>NaN</td>\n",
       "      <td>32.0</td>\n",
       "      <td>6S</td>\n",
       "      <td>NaN</td>\n",
       "    </tr>\n",
       "    <tr>\n",
       "      <th>...</th>\n",
       "      <td>...</td>\n",
       "      <td>...</td>\n",
       "      <td>...</td>\n",
       "      <td>...</td>\n",
       "      <td>...</td>\n",
       "      <td>...</td>\n",
       "      <td>...</td>\n",
       "      <td>...</td>\n",
       "      <td>...</td>\n",
       "      <td>...</td>\n",
       "      <td>...</td>\n",
       "    </tr>\n",
       "    <tr>\n",
       "      <th>255747</th>\n",
       "      <td>106</td>\n",
       "      <td>2019</td>\n",
       "      <td>stage-21</td>\n",
       "      <td>151</td>\n",
       "      <td>30S</td>\n",
       "      <td>Bennett George</td>\n",
       "      <td>29.0</td>\n",
       "      <td>NaN</td>\n",
       "      <td>NaN</td>\n",
       "      <td>38S</td>\n",
       "      <td>NaN</td>\n",
       "    </tr>\n",
       "    <tr>\n",
       "      <th>255748</th>\n",
       "      <td>106</td>\n",
       "      <td>2019</td>\n",
       "      <td>stage-21</td>\n",
       "      <td>152</td>\n",
       "      <td>30S</td>\n",
       "      <td>Scully Tom</td>\n",
       "      <td>29.0</td>\n",
       "      <td>NaN</td>\n",
       "      <td>NaN</td>\n",
       "      <td>38S</td>\n",
       "      <td>NaN</td>\n",
       "    </tr>\n",
       "    <tr>\n",
       "      <th>255749</th>\n",
       "      <td>106</td>\n",
       "      <td>2019</td>\n",
       "      <td>stage-21</td>\n",
       "      <td>153</td>\n",
       "      <td>0S</td>\n",
       "      <td>Naesen Oliver</td>\n",
       "      <td>28.0</td>\n",
       "      <td>NaN</td>\n",
       "      <td>NaN</td>\n",
       "      <td>8S</td>\n",
       "      <td>NaN</td>\n",
       "    </tr>\n",
       "    <tr>\n",
       "      <th>255750</th>\n",
       "      <td>106</td>\n",
       "      <td>2019</td>\n",
       "      <td>stage-21</td>\n",
       "      <td>154</td>\n",
       "      <td>0S</td>\n",
       "      <td>Tratnik Jan</td>\n",
       "      <td>29.0</td>\n",
       "      <td>NaN</td>\n",
       "      <td>NaN</td>\n",
       "      <td>8S</td>\n",
       "      <td>NaN</td>\n",
       "    </tr>\n",
       "    <tr>\n",
       "      <th>255751</th>\n",
       "      <td>106</td>\n",
       "      <td>2019</td>\n",
       "      <td>stage-21</td>\n",
       "      <td>155</td>\n",
       "      <td>33S</td>\n",
       "      <td>Würtz Schmidt Mads</td>\n",
       "      <td>25.0</td>\n",
       "      <td>NaN</td>\n",
       "      <td>NaN</td>\n",
       "      <td>41S</td>\n",
       "      <td>NaN</td>\n",
       "    </tr>\n",
       "  </tbody>\n",
       "</table>\n",
       "<p>255752 rows × 11 columns</p>\n",
       "</div>"
      ],
      "text/plain": [
       "        edition  year stage_results_id rank time               rider   age  \\\n",
       "0             1  1903          stage-1    1  13S       Garin Maurice  32.0   \n",
       "1             1  1903          stage-1    2  55S         Pagie Émile  32.0   \n",
       "2             1  1903          stage-1    3  59S        Georget Léon  23.0   \n",
       "3             1  1903          stage-1    4  48S    Augereau Fernand  20.0   \n",
       "4             1  1903          stage-1    5  53S        Fischer Jean  36.0   \n",
       "...         ...   ...              ...  ...  ...                 ...   ...   \n",
       "255747      106  2019         stage-21  151  30S      Bennett George  29.0   \n",
       "255748      106  2019         stage-21  152  30S          Scully Tom  29.0   \n",
       "255749      106  2019         stage-21  153   0S       Naesen Oliver  28.0   \n",
       "255750      106  2019         stage-21  154   0S         Tratnik Jan  29.0   \n",
       "255751      106  2019         stage-21  155  33S  Würtz Schmidt Mads  25.0   \n",
       "\n",
       "        team  points elapsed bib_number  \n",
       "0        NaN   100.0     13S        NaN  \n",
       "1        NaN    70.0      8S        NaN  \n",
       "2        NaN    50.0     12S        NaN  \n",
       "3        NaN    40.0      1S        NaN  \n",
       "4        NaN    32.0      6S        NaN  \n",
       "...      ...     ...     ...        ...  \n",
       "255747   NaN     NaN     38S        NaN  \n",
       "255748   NaN     NaN     38S        NaN  \n",
       "255749   NaN     NaN      8S        NaN  \n",
       "255750   NaN     NaN      8S        NaN  \n",
       "255751   NaN     NaN     41S        NaN  \n",
       "\n",
       "[255752 rows x 11 columns]"
      ]
     },
     "execution_count": 73,
     "metadata": {},
     "output_type": "execute_result"
    }
   ],
   "source": [
    "stages_df"
   ]
  },
  {
   "cell_type": "code",
   "execution_count": 74,
   "id": "674d9d17",
   "metadata": {},
   "outputs": [],
   "source": [
    "df = pd.read_csv('https://raw.githubusercontent.com/rfordatascience/tidytuesday/master/data/2020/2020-04-07/tdf_winners.csv')"
   ]
  },
  {
   "cell_type": "code",
   "execution_count": 75,
   "id": "7ebc39be",
   "metadata": {},
   "outputs": [
    {
     "data": {
      "text/html": [
       "<div>\n",
       "<style scoped>\n",
       "    .dataframe tbody tr th:only-of-type {\n",
       "        vertical-align: middle;\n",
       "    }\n",
       "\n",
       "    .dataframe tbody tr th {\n",
       "        vertical-align: top;\n",
       "    }\n",
       "\n",
       "    .dataframe thead th {\n",
       "        text-align: right;\n",
       "    }\n",
       "</style>\n",
       "<table border=\"1\" class=\"dataframe\">\n",
       "  <thead>\n",
       "    <tr style=\"text-align: right;\">\n",
       "      <th></th>\n",
       "      <th>edition</th>\n",
       "      <th>start_date</th>\n",
       "      <th>winner_name</th>\n",
       "      <th>winner_team</th>\n",
       "      <th>distance</th>\n",
       "      <th>time_overall</th>\n",
       "      <th>time_margin</th>\n",
       "      <th>stage_wins</th>\n",
       "      <th>stages_led</th>\n",
       "      <th>height</th>\n",
       "      <th>weight</th>\n",
       "      <th>age</th>\n",
       "      <th>born</th>\n",
       "      <th>died</th>\n",
       "      <th>full_name</th>\n",
       "      <th>nickname</th>\n",
       "      <th>birth_town</th>\n",
       "      <th>birth_country</th>\n",
       "      <th>nationality</th>\n",
       "    </tr>\n",
       "  </thead>\n",
       "  <tbody>\n",
       "    <tr>\n",
       "      <th>0</th>\n",
       "      <td>1</td>\n",
       "      <td>1903-07-01</td>\n",
       "      <td>Maurice Garin</td>\n",
       "      <td>La Française</td>\n",
       "      <td>2428.0</td>\n",
       "      <td>94.553889</td>\n",
       "      <td>2.989167</td>\n",
       "      <td>3</td>\n",
       "      <td>6</td>\n",
       "      <td>1.62</td>\n",
       "      <td>60.0</td>\n",
       "      <td>32</td>\n",
       "      <td>1871-03-03</td>\n",
       "      <td>1957-02-19</td>\n",
       "      <td>NaN</td>\n",
       "      <td>The Little Chimney-sweep</td>\n",
       "      <td>Arvier</td>\n",
       "      <td>Italy</td>\n",
       "      <td>France</td>\n",
       "    </tr>\n",
       "    <tr>\n",
       "      <th>1</th>\n",
       "      <td>2</td>\n",
       "      <td>1904-07-02</td>\n",
       "      <td>Henri Cornet</td>\n",
       "      <td>Conte</td>\n",
       "      <td>2428.0</td>\n",
       "      <td>96.098611</td>\n",
       "      <td>2.270556</td>\n",
       "      <td>1</td>\n",
       "      <td>3</td>\n",
       "      <td>NaN</td>\n",
       "      <td>NaN</td>\n",
       "      <td>19</td>\n",
       "      <td>1884-08-04</td>\n",
       "      <td>1941-03-18</td>\n",
       "      <td>NaN</td>\n",
       "      <td>Le rigolo (The joker)</td>\n",
       "      <td>Desvres</td>\n",
       "      <td>France</td>\n",
       "      <td>France</td>\n",
       "    </tr>\n",
       "    <tr>\n",
       "      <th>2</th>\n",
       "      <td>3</td>\n",
       "      <td>1905-07-09</td>\n",
       "      <td>Louis Trousselier</td>\n",
       "      <td>Peugeot–Wolber</td>\n",
       "      <td>2994.0</td>\n",
       "      <td>NaN</td>\n",
       "      <td>NaN</td>\n",
       "      <td>5</td>\n",
       "      <td>10</td>\n",
       "      <td>NaN</td>\n",
       "      <td>NaN</td>\n",
       "      <td>24</td>\n",
       "      <td>1881-06-29</td>\n",
       "      <td>1939-04-24</td>\n",
       "      <td>NaN</td>\n",
       "      <td>Levaloy / Trou-trou</td>\n",
       "      <td>Paris</td>\n",
       "      <td>France</td>\n",
       "      <td>France</td>\n",
       "    </tr>\n",
       "    <tr>\n",
       "      <th>3</th>\n",
       "      <td>4</td>\n",
       "      <td>1906-07-04</td>\n",
       "      <td>René Pottier</td>\n",
       "      <td>Peugeot–Wolber</td>\n",
       "      <td>4637.0</td>\n",
       "      <td>NaN</td>\n",
       "      <td>NaN</td>\n",
       "      <td>5</td>\n",
       "      <td>12</td>\n",
       "      <td>NaN</td>\n",
       "      <td>NaN</td>\n",
       "      <td>27</td>\n",
       "      <td>1879-06-05</td>\n",
       "      <td>1907-01-25</td>\n",
       "      <td>NaN</td>\n",
       "      <td>NaN</td>\n",
       "      <td>Moret-sur-Loing</td>\n",
       "      <td>France</td>\n",
       "      <td>France</td>\n",
       "    </tr>\n",
       "    <tr>\n",
       "      <th>4</th>\n",
       "      <td>5</td>\n",
       "      <td>1907-07-08</td>\n",
       "      <td>Lucien Petit-Breton</td>\n",
       "      <td>Peugeot–Wolber</td>\n",
       "      <td>4488.0</td>\n",
       "      <td>NaN</td>\n",
       "      <td>NaN</td>\n",
       "      <td>2</td>\n",
       "      <td>5</td>\n",
       "      <td>NaN</td>\n",
       "      <td>NaN</td>\n",
       "      <td>24</td>\n",
       "      <td>1882-10-18</td>\n",
       "      <td>1917-12-20</td>\n",
       "      <td>Lucien Georges Mazan</td>\n",
       "      <td>Lucien Petit-Breton</td>\n",
       "      <td>Plessé</td>\n",
       "      <td>France</td>\n",
       "      <td>France</td>\n",
       "    </tr>\n",
       "    <tr>\n",
       "      <th>...</th>\n",
       "      <td>...</td>\n",
       "      <td>...</td>\n",
       "      <td>...</td>\n",
       "      <td>...</td>\n",
       "      <td>...</td>\n",
       "      <td>...</td>\n",
       "      <td>...</td>\n",
       "      <td>...</td>\n",
       "      <td>...</td>\n",
       "      <td>...</td>\n",
       "      <td>...</td>\n",
       "      <td>...</td>\n",
       "      <td>...</td>\n",
       "      <td>...</td>\n",
       "      <td>...</td>\n",
       "      <td>...</td>\n",
       "      <td>...</td>\n",
       "      <td>...</td>\n",
       "      <td>...</td>\n",
       "    </tr>\n",
       "    <tr>\n",
       "      <th>101</th>\n",
       "      <td>102</td>\n",
       "      <td>2015-07-04</td>\n",
       "      <td>Chris Froome</td>\n",
       "      <td>Team Sky</td>\n",
       "      <td>3360.3</td>\n",
       "      <td>84.770556</td>\n",
       "      <td>0.016944</td>\n",
       "      <td>1</td>\n",
       "      <td>16</td>\n",
       "      <td>1.86</td>\n",
       "      <td>69.0</td>\n",
       "      <td>30</td>\n",
       "      <td>1985-05-20</td>\n",
       "      <td>NaN</td>\n",
       "      <td>Christopher Clive Froome</td>\n",
       "      <td>Froomey</td>\n",
       "      <td>Nairobi</td>\n",
       "      <td>Kenya</td>\n",
       "      <td>Great Britain</td>\n",
       "    </tr>\n",
       "    <tr>\n",
       "      <th>102</th>\n",
       "      <td>103</td>\n",
       "      <td>2016-07-02</td>\n",
       "      <td>Chris Froome</td>\n",
       "      <td>Team Sky</td>\n",
       "      <td>3529.0</td>\n",
       "      <td>89.080000</td>\n",
       "      <td>0.067778</td>\n",
       "      <td>2</td>\n",
       "      <td>14</td>\n",
       "      <td>1.86</td>\n",
       "      <td>69.0</td>\n",
       "      <td>31</td>\n",
       "      <td>1985-05-20</td>\n",
       "      <td>NaN</td>\n",
       "      <td>Christopher Clive Froome</td>\n",
       "      <td>Froomey</td>\n",
       "      <td>Nairobi</td>\n",
       "      <td>Kenya</td>\n",
       "      <td>Great Britain</td>\n",
       "    </tr>\n",
       "    <tr>\n",
       "      <th>103</th>\n",
       "      <td>104</td>\n",
       "      <td>2017-07-01</td>\n",
       "      <td>Chris Froome</td>\n",
       "      <td>Team Sky</td>\n",
       "      <td>3540.0</td>\n",
       "      <td>86.348611</td>\n",
       "      <td>0.015000</td>\n",
       "      <td>0</td>\n",
       "      <td>15</td>\n",
       "      <td>1.86</td>\n",
       "      <td>69.0</td>\n",
       "      <td>32</td>\n",
       "      <td>1985-05-20</td>\n",
       "      <td>NaN</td>\n",
       "      <td>Christopher Clive Froome</td>\n",
       "      <td>Froomey</td>\n",
       "      <td>Nairobi</td>\n",
       "      <td>Kenya</td>\n",
       "      <td>Great Britain</td>\n",
       "    </tr>\n",
       "    <tr>\n",
       "      <th>104</th>\n",
       "      <td>105</td>\n",
       "      <td>2018-07-07</td>\n",
       "      <td>Geraint Thomas</td>\n",
       "      <td>Team Sky</td>\n",
       "      <td>3349.0</td>\n",
       "      <td>83.286944</td>\n",
       "      <td>0.016944</td>\n",
       "      <td>2</td>\n",
       "      <td>11</td>\n",
       "      <td>1.83</td>\n",
       "      <td>71.0</td>\n",
       "      <td>32</td>\n",
       "      <td>1986-05-25</td>\n",
       "      <td>NaN</td>\n",
       "      <td>Geraint Howell Thomas</td>\n",
       "      <td>G</td>\n",
       "      <td>Cardiff</td>\n",
       "      <td>Wales</td>\n",
       "      <td>Great Britain</td>\n",
       "    </tr>\n",
       "    <tr>\n",
       "      <th>105</th>\n",
       "      <td>106</td>\n",
       "      <td>2019-07-06</td>\n",
       "      <td>Egan Bernal</td>\n",
       "      <td>Team Ineos</td>\n",
       "      <td>3349.0</td>\n",
       "      <td>82.950000</td>\n",
       "      <td>0.016944</td>\n",
       "      <td>0</td>\n",
       "      <td>2</td>\n",
       "      <td>1.75</td>\n",
       "      <td>60.0</td>\n",
       "      <td>22</td>\n",
       "      <td>1997-01-13</td>\n",
       "      <td>NaN</td>\n",
       "      <td>Egan Arley Bernal Gómez</td>\n",
       "      <td>NaN</td>\n",
       "      <td>Bogotá</td>\n",
       "      <td>Columbia</td>\n",
       "      <td>Colombia</td>\n",
       "    </tr>\n",
       "  </tbody>\n",
       "</table>\n",
       "<p>106 rows × 19 columns</p>\n",
       "</div>"
      ],
      "text/plain": [
       "     edition  start_date          winner_name     winner_team  distance  \\\n",
       "0          1  1903-07-01        Maurice Garin    La Française    2428.0   \n",
       "1          2  1904-07-02         Henri Cornet           Conte    2428.0   \n",
       "2          3  1905-07-09    Louis Trousselier  Peugeot–Wolber    2994.0   \n",
       "3          4  1906-07-04         René Pottier  Peugeot–Wolber    4637.0   \n",
       "4          5  1907-07-08  Lucien Petit-Breton  Peugeot–Wolber    4488.0   \n",
       "..       ...         ...                  ...             ...       ...   \n",
       "101      102  2015-07-04         Chris Froome        Team Sky    3360.3   \n",
       "102      103  2016-07-02         Chris Froome        Team Sky    3529.0   \n",
       "103      104  2017-07-01         Chris Froome        Team Sky    3540.0   \n",
       "104      105  2018-07-07       Geraint Thomas        Team Sky    3349.0   \n",
       "105      106  2019-07-06          Egan Bernal      Team Ineos    3349.0   \n",
       "\n",
       "     time_overall  time_margin  stage_wins  stages_led  height  weight  age  \\\n",
       "0       94.553889     2.989167           3           6    1.62    60.0   32   \n",
       "1       96.098611     2.270556           1           3     NaN     NaN   19   \n",
       "2             NaN          NaN           5          10     NaN     NaN   24   \n",
       "3             NaN          NaN           5          12     NaN     NaN   27   \n",
       "4             NaN          NaN           2           5     NaN     NaN   24   \n",
       "..            ...          ...         ...         ...     ...     ...  ...   \n",
       "101     84.770556     0.016944           1          16    1.86    69.0   30   \n",
       "102     89.080000     0.067778           2          14    1.86    69.0   31   \n",
       "103     86.348611     0.015000           0          15    1.86    69.0   32   \n",
       "104     83.286944     0.016944           2          11    1.83    71.0   32   \n",
       "105     82.950000     0.016944           0           2    1.75    60.0   22   \n",
       "\n",
       "           born        died                 full_name  \\\n",
       "0    1871-03-03  1957-02-19                       NaN   \n",
       "1    1884-08-04  1941-03-18                       NaN   \n",
       "2    1881-06-29  1939-04-24                       NaN   \n",
       "3    1879-06-05  1907-01-25                       NaN   \n",
       "4    1882-10-18  1917-12-20      Lucien Georges Mazan   \n",
       "..          ...         ...                       ...   \n",
       "101  1985-05-20         NaN  Christopher Clive Froome   \n",
       "102  1985-05-20         NaN  Christopher Clive Froome   \n",
       "103  1985-05-20         NaN  Christopher Clive Froome   \n",
       "104  1986-05-25         NaN     Geraint Howell Thomas   \n",
       "105  1997-01-13         NaN   Egan Arley Bernal Gómez   \n",
       "\n",
       "                     nickname       birth_town birth_country     nationality  \n",
       "0    The Little Chimney-sweep           Arvier         Italy          France  \n",
       "1       Le rigolo (The joker)          Desvres        France          France  \n",
       "2         Levaloy / Trou-trou            Paris        France          France  \n",
       "3                         NaN  Moret-sur-Loing        France          France  \n",
       "4         Lucien Petit-Breton           Plessé        France          France  \n",
       "..                        ...              ...           ...             ...  \n",
       "101                   Froomey          Nairobi         Kenya   Great Britain  \n",
       "102                   Froomey          Nairobi         Kenya   Great Britain  \n",
       "103                   Froomey          Nairobi         Kenya   Great Britain  \n",
       "104                         G          Cardiff         Wales   Great Britain  \n",
       "105                       NaN           Bogotá      Columbia        Colombia  \n",
       "\n",
       "[106 rows x 19 columns]"
      ]
     },
     "execution_count": 75,
     "metadata": {},
     "output_type": "execute_result"
    }
   ],
   "source": [
    "df"
   ]
  },
  {
   "cell_type": "code",
   "execution_count": 76,
   "id": "5e1ee62a",
   "metadata": {},
   "outputs": [
    {
     "data": {
      "text/plain": [
       "edition           0\n",
       "start_date        0\n",
       "winner_name       0\n",
       "winner_team       0\n",
       "distance          0\n",
       "time_overall      8\n",
       "time_margin       8\n",
       "stage_wins        0\n",
       "stages_led        0\n",
       "height           40\n",
       "weight           39\n",
       "age               0\n",
       "born              0\n",
       "died             50\n",
       "full_name        60\n",
       "nickname         32\n",
       "birth_town        0\n",
       "birth_country     0\n",
       "nationality       0\n",
       "dtype: int64"
      ]
     },
     "execution_count": 76,
     "metadata": {},
     "output_type": "execute_result"
    }
   ],
   "source": [
    "df.isnull().sum()"
   ]
  },
  {
   "cell_type": "code",
   "execution_count": 77,
   "id": "bc5e62c2",
   "metadata": {},
   "outputs": [
    {
     "name": "stdout",
     "output_type": "stream",
     "text": [
      "Media:\n",
      "4212.064150943396\n",
      "Mediana:\n",
      "4155.5\n",
      "Moda:\n",
      "0    2428.0\n",
      "1    3349.0\n",
      "2    3765.0\n",
      "3    4498.0\n",
      "dtype: float64\n",
      "Desviación Estándar:\n",
      "704.2841600740265\n"
     ]
    }
   ],
   "source": [
    "# Cálculo para el atributo \"distance\" del Dataset \"df\"\n",
    "import statistics\n",
    "\n",
    "media = df[\"distance\"].mean()\n",
    "mediana = df[\"distance\"].median()\n",
    "moda = df[\"distance\"].mode()\n",
    "std = statistics.stdev(df[\"distance\"])\n",
    "\n",
    "print(\"Media:\")\n",
    "print(media)\n",
    "print(\"Mediana:\")\n",
    "print(mediana)\n",
    "print(\"Moda:\")\n",
    "print(moda)\n",
    "print(\"Desviación Estándar:\")\n",
    "print(std)"
   ]
  },
  {
   "cell_type": "code",
   "execution_count": 49,
   "id": "2565b6c7",
   "metadata": {},
   "outputs": [
    {
     "data": {
      "text/html": [
       "<div>\n",
       "<style scoped>\n",
       "    .dataframe tbody tr th:only-of-type {\n",
       "        vertical-align: middle;\n",
       "    }\n",
       "\n",
       "    .dataframe tbody tr th {\n",
       "        vertical-align: top;\n",
       "    }\n",
       "\n",
       "    .dataframe thead th {\n",
       "        text-align: right;\n",
       "    }\n",
       "</style>\n",
       "<table border=\"1\" class=\"dataframe\">\n",
       "  <thead>\n",
       "    <tr style=\"text-align: right;\">\n",
       "      <th></th>\n",
       "      <th>edition</th>\n",
       "      <th>year</th>\n",
       "      <th>stage_results_id</th>\n",
       "      <th>rank</th>\n",
       "      <th>time</th>\n",
       "      <th>rider</th>\n",
       "      <th>age</th>\n",
       "      <th>team</th>\n",
       "      <th>points</th>\n",
       "      <th>elapsed</th>\n",
       "      <th>bib_number</th>\n",
       "    </tr>\n",
       "  </thead>\n",
       "  <tbody>\n",
       "    <tr>\n",
       "      <th>0</th>\n",
       "      <td>1</td>\n",
       "      <td>1903</td>\n",
       "      <td>stage-1</td>\n",
       "      <td>1</td>\n",
       "      <td>13S</td>\n",
       "      <td>Garin Maurice</td>\n",
       "      <td>32.0</td>\n",
       "      <td>NaN</td>\n",
       "      <td>100.0</td>\n",
       "      <td>13S</td>\n",
       "      <td>NaN</td>\n",
       "    </tr>\n",
       "    <tr>\n",
       "      <th>1</th>\n",
       "      <td>1</td>\n",
       "      <td>1903</td>\n",
       "      <td>stage-1</td>\n",
       "      <td>2</td>\n",
       "      <td>55S</td>\n",
       "      <td>Pagie Émile</td>\n",
       "      <td>32.0</td>\n",
       "      <td>NaN</td>\n",
       "      <td>70.0</td>\n",
       "      <td>8S</td>\n",
       "      <td>NaN</td>\n",
       "    </tr>\n",
       "    <tr>\n",
       "      <th>2</th>\n",
       "      <td>1</td>\n",
       "      <td>1903</td>\n",
       "      <td>stage-1</td>\n",
       "      <td>3</td>\n",
       "      <td>59S</td>\n",
       "      <td>Georget Léon</td>\n",
       "      <td>23.0</td>\n",
       "      <td>NaN</td>\n",
       "      <td>50.0</td>\n",
       "      <td>12S</td>\n",
       "      <td>NaN</td>\n",
       "    </tr>\n",
       "    <tr>\n",
       "      <th>3</th>\n",
       "      <td>1</td>\n",
       "      <td>1903</td>\n",
       "      <td>stage-1</td>\n",
       "      <td>4</td>\n",
       "      <td>48S</td>\n",
       "      <td>Augereau Fernand</td>\n",
       "      <td>20.0</td>\n",
       "      <td>NaN</td>\n",
       "      <td>40.0</td>\n",
       "      <td>1S</td>\n",
       "      <td>NaN</td>\n",
       "    </tr>\n",
       "    <tr>\n",
       "      <th>4</th>\n",
       "      <td>1</td>\n",
       "      <td>1903</td>\n",
       "      <td>stage-1</td>\n",
       "      <td>5</td>\n",
       "      <td>53S</td>\n",
       "      <td>Fischer Jean</td>\n",
       "      <td>36.0</td>\n",
       "      <td>NaN</td>\n",
       "      <td>32.0</td>\n",
       "      <td>6S</td>\n",
       "      <td>NaN</td>\n",
       "    </tr>\n",
       "  </tbody>\n",
       "</table>\n",
       "</div>"
      ],
      "text/plain": [
       "   edition  year stage_results_id rank time             rider   age team  \\\n",
       "0        1  1903          stage-1    1  13S     Garin Maurice  32.0  NaN   \n",
       "1        1  1903          stage-1    2  55S       Pagie Émile  32.0  NaN   \n",
       "2        1  1903          stage-1    3  59S      Georget Léon  23.0  NaN   \n",
       "3        1  1903          stage-1    4  48S  Augereau Fernand  20.0  NaN   \n",
       "4        1  1903          stage-1    5  53S      Fischer Jean  36.0  NaN   \n",
       "\n",
       "   points elapsed  bib_number  \n",
       "0   100.0     13S         NaN  \n",
       "1    70.0      8S         NaN  \n",
       "2    50.0     12S         NaN  \n",
       "3    40.0      1S         NaN  \n",
       "4    32.0      6S         NaN  "
      ]
     },
     "execution_count": 49,
     "metadata": {},
     "output_type": "execute_result"
    }
   ],
   "source": [
    "stage_df = pd.read_csv('https://raw.githubusercontent.com/rfordatascience/tidytuesday/master/data/2020/2020-04-07/stage_data.csv')\n",
    "stage_df.head()"
   ]
  },
  {
   "cell_type": "code",
   "execution_count": 50,
   "id": "d7c589d4",
   "metadata": {},
   "outputs": [
    {
     "data": {
      "text/html": [
       "<div>\n",
       "<style scoped>\n",
       "    .dataframe tbody tr th:only-of-type {\n",
       "        vertical-align: middle;\n",
       "    }\n",
       "\n",
       "    .dataframe tbody tr th {\n",
       "        vertical-align: top;\n",
       "    }\n",
       "\n",
       "    .dataframe thead th {\n",
       "        text-align: right;\n",
       "    }\n",
       "</style>\n",
       "<table border=\"1\" class=\"dataframe\">\n",
       "  <thead>\n",
       "    <tr style=\"text-align: right;\">\n",
       "      <th></th>\n",
       "      <th>edition</th>\n",
       "      <th>year</th>\n",
       "      <th>stage_results_id</th>\n",
       "      <th>rank</th>\n",
       "      <th>time</th>\n",
       "      <th>rider</th>\n",
       "      <th>age</th>\n",
       "      <th>team</th>\n",
       "      <th>points</th>\n",
       "      <th>elapsed</th>\n",
       "      <th>bib_number</th>\n",
       "    </tr>\n",
       "  </thead>\n",
       "  <tbody>\n",
       "    <tr>\n",
       "      <th>0</th>\n",
       "      <td>1</td>\n",
       "      <td>1903</td>\n",
       "      <td>stage-1</td>\n",
       "      <td>1</td>\n",
       "      <td>13S</td>\n",
       "      <td>Garin Maurice</td>\n",
       "      <td>32.0</td>\n",
       "      <td>NaN</td>\n",
       "      <td>100.0</td>\n",
       "      <td>13S</td>\n",
       "      <td>NaN</td>\n",
       "    </tr>\n",
       "    <tr>\n",
       "      <th>1</th>\n",
       "      <td>1</td>\n",
       "      <td>1903</td>\n",
       "      <td>stage-1</td>\n",
       "      <td>2</td>\n",
       "      <td>55S</td>\n",
       "      <td>Pagie Émile</td>\n",
       "      <td>32.0</td>\n",
       "      <td>NaN</td>\n",
       "      <td>70.0</td>\n",
       "      <td>8S</td>\n",
       "      <td>NaN</td>\n",
       "    </tr>\n",
       "    <tr>\n",
       "      <th>2</th>\n",
       "      <td>1</td>\n",
       "      <td>1903</td>\n",
       "      <td>stage-1</td>\n",
       "      <td>3</td>\n",
       "      <td>59S</td>\n",
       "      <td>Georget Léon</td>\n",
       "      <td>23.0</td>\n",
       "      <td>NaN</td>\n",
       "      <td>50.0</td>\n",
       "      <td>12S</td>\n",
       "      <td>NaN</td>\n",
       "    </tr>\n",
       "    <tr>\n",
       "      <th>3</th>\n",
       "      <td>1</td>\n",
       "      <td>1903</td>\n",
       "      <td>stage-1</td>\n",
       "      <td>4</td>\n",
       "      <td>48S</td>\n",
       "      <td>Augereau Fernand</td>\n",
       "      <td>20.0</td>\n",
       "      <td>NaN</td>\n",
       "      <td>40.0</td>\n",
       "      <td>1S</td>\n",
       "      <td>NaN</td>\n",
       "    </tr>\n",
       "    <tr>\n",
       "      <th>4</th>\n",
       "      <td>1</td>\n",
       "      <td>1903</td>\n",
       "      <td>stage-1</td>\n",
       "      <td>5</td>\n",
       "      <td>53S</td>\n",
       "      <td>Fischer Jean</td>\n",
       "      <td>36.0</td>\n",
       "      <td>NaN</td>\n",
       "      <td>32.0</td>\n",
       "      <td>6S</td>\n",
       "      <td>NaN</td>\n",
       "    </tr>\n",
       "    <tr>\n",
       "      <th>...</th>\n",
       "      <td>...</td>\n",
       "      <td>...</td>\n",
       "      <td>...</td>\n",
       "      <td>...</td>\n",
       "      <td>...</td>\n",
       "      <td>...</td>\n",
       "      <td>...</td>\n",
       "      <td>...</td>\n",
       "      <td>...</td>\n",
       "      <td>...</td>\n",
       "      <td>...</td>\n",
       "    </tr>\n",
       "    <tr>\n",
       "      <th>255747</th>\n",
       "      <td>106</td>\n",
       "      <td>2019</td>\n",
       "      <td>stage-21</td>\n",
       "      <td>151</td>\n",
       "      <td>30S</td>\n",
       "      <td>Bennett George</td>\n",
       "      <td>29.0</td>\n",
       "      <td>Team Jumbo-Visma</td>\n",
       "      <td>NaN</td>\n",
       "      <td>38S</td>\n",
       "      <td>82.0</td>\n",
       "    </tr>\n",
       "    <tr>\n",
       "      <th>255748</th>\n",
       "      <td>106</td>\n",
       "      <td>2019</td>\n",
       "      <td>stage-21</td>\n",
       "      <td>152</td>\n",
       "      <td>30S</td>\n",
       "      <td>Scully Tom</td>\n",
       "      <td>29.0</td>\n",
       "      <td>EF Education First</td>\n",
       "      <td>NaN</td>\n",
       "      <td>38S</td>\n",
       "      <td>96.0</td>\n",
       "    </tr>\n",
       "    <tr>\n",
       "      <th>255749</th>\n",
       "      <td>106</td>\n",
       "      <td>2019</td>\n",
       "      <td>stage-21</td>\n",
       "      <td>153</td>\n",
       "      <td>0S</td>\n",
       "      <td>Naesen Oliver</td>\n",
       "      <td>28.0</td>\n",
       "      <td>AG2R La Mondiale</td>\n",
       "      <td>NaN</td>\n",
       "      <td>8S</td>\n",
       "      <td>37.0</td>\n",
       "    </tr>\n",
       "    <tr>\n",
       "      <th>255750</th>\n",
       "      <td>106</td>\n",
       "      <td>2019</td>\n",
       "      <td>stage-21</td>\n",
       "      <td>154</td>\n",
       "      <td>0S</td>\n",
       "      <td>Tratnik Jan</td>\n",
       "      <td>29.0</td>\n",
       "      <td>Bahrain Merida</td>\n",
       "      <td>NaN</td>\n",
       "      <td>8S</td>\n",
       "      <td>48.0</td>\n",
       "    </tr>\n",
       "    <tr>\n",
       "      <th>255751</th>\n",
       "      <td>106</td>\n",
       "      <td>2019</td>\n",
       "      <td>stage-21</td>\n",
       "      <td>155</td>\n",
       "      <td>33S</td>\n",
       "      <td>Würtz Schmidt Mads</td>\n",
       "      <td>25.0</td>\n",
       "      <td>Team Katusha Alpecin</td>\n",
       "      <td>NaN</td>\n",
       "      <td>41S</td>\n",
       "      <td>187.0</td>\n",
       "    </tr>\n",
       "  </tbody>\n",
       "</table>\n",
       "<p>255752 rows × 11 columns</p>\n",
       "</div>"
      ],
      "text/plain": [
       "        edition  year stage_results_id rank time               rider   age  \\\n",
       "0             1  1903          stage-1    1  13S       Garin Maurice  32.0   \n",
       "1             1  1903          stage-1    2  55S         Pagie Émile  32.0   \n",
       "2             1  1903          stage-1    3  59S        Georget Léon  23.0   \n",
       "3             1  1903          stage-1    4  48S    Augereau Fernand  20.0   \n",
       "4             1  1903          stage-1    5  53S        Fischer Jean  36.0   \n",
       "...         ...   ...              ...  ...  ...                 ...   ...   \n",
       "255747      106  2019         stage-21  151  30S      Bennett George  29.0   \n",
       "255748      106  2019         stage-21  152  30S          Scully Tom  29.0   \n",
       "255749      106  2019         stage-21  153   0S       Naesen Oliver  28.0   \n",
       "255750      106  2019         stage-21  154   0S         Tratnik Jan  29.0   \n",
       "255751      106  2019         stage-21  155  33S  Würtz Schmidt Mads  25.0   \n",
       "\n",
       "                        team  points elapsed  bib_number  \n",
       "0                        NaN   100.0     13S         NaN  \n",
       "1                        NaN    70.0      8S         NaN  \n",
       "2                        NaN    50.0     12S         NaN  \n",
       "3                        NaN    40.0      1S         NaN  \n",
       "4                        NaN    32.0      6S         NaN  \n",
       "...                      ...     ...     ...         ...  \n",
       "255747      Team Jumbo-Visma     NaN     38S        82.0  \n",
       "255748    EF Education First     NaN     38S        96.0  \n",
       "255749      AG2R La Mondiale     NaN      8S        37.0  \n",
       "255750        Bahrain Merida     NaN      8S        48.0  \n",
       "255751  Team Katusha Alpecin     NaN     41S       187.0  \n",
       "\n",
       "[255752 rows x 11 columns]"
      ]
     },
     "execution_count": 50,
     "metadata": {},
     "output_type": "execute_result"
    }
   ],
   "source": [
    "stage_df"
   ]
  },
  {
   "cell_type": "code",
   "execution_count": 51,
   "id": "af5f161e",
   "metadata": {},
   "outputs": [
    {
     "data": {
      "text/plain": [
       "edition                  0\n",
       "year                     0\n",
       "stage_results_id         0\n",
       "rank                     0\n",
       "time                  5617\n",
       "rider                    0\n",
       "age                   3326\n",
       "team                 24043\n",
       "points              222746\n",
       "elapsed               5617\n",
       "bib_number           23534\n",
       "dtype: int64"
      ]
     },
     "execution_count": 51,
     "metadata": {},
     "output_type": "execute_result"
    }
   ],
   "source": [
    "stage_df.isnull().sum()"
   ]
  },
  {
   "cell_type": "code",
   "execution_count": 52,
   "id": "f77e47f3",
   "metadata": {},
   "outputs": [],
   "source": [
    "df = stage_df.dropna(subset=['age'],inplace=True)"
   ]
  },
  {
   "cell_type": "code",
   "execution_count": 53,
   "id": "adae1bfc",
   "metadata": {},
   "outputs": [
    {
     "data": {
      "text/plain": [
       "edition                  0\n",
       "year                     0\n",
       "stage_results_id         0\n",
       "rank                     0\n",
       "time                  4978\n",
       "rider                    0\n",
       "age                      0\n",
       "team                 20742\n",
       "points              219550\n",
       "elapsed               4978\n",
       "bib_number           20233\n",
       "dtype: int64"
      ]
     },
     "execution_count": 53,
     "metadata": {},
     "output_type": "execute_result"
    }
   ],
   "source": [
    "stage_df.isnull().sum()"
   ]
  },
  {
   "cell_type": "code",
   "execution_count": 54,
   "id": "7d5195ec",
   "metadata": {},
   "outputs": [
    {
     "data": {
      "text/plain": [
       "26.0    28562\n",
       "25.0    27869\n",
       "27.0    26635\n",
       "24.0    24264\n",
       "28.0    24208\n",
       "29.0    21296\n",
       "30.0    17443\n",
       "23.0    16531\n",
       "31.0    15070\n",
       "32.0    11652\n",
       "33.0     8933\n",
       "22.0     8653\n",
       "34.0     6243\n",
       "35.0     4067\n",
       "21.0     3244\n",
       "36.0     2796\n",
       "37.0     1481\n",
       "38.0     1050\n",
       "20.0      914\n",
       "39.0      471\n",
       "40.0      353\n",
       "19.0      280\n",
       "42.0      126\n",
       "41.0       95\n",
       "18.0       88\n",
       "43.0       31\n",
       "44.0       28\n",
       "17.0       24\n",
       "45.0       10\n",
       "47.0        3\n",
       "46.0        2\n",
       "16.0        1\n",
       "48.0        1\n",
       "49.0        1\n",
       "13.0        1\n",
       "Name: age, dtype: int64"
      ]
     },
     "execution_count": 54,
     "metadata": {},
     "output_type": "execute_result"
    }
   ],
   "source": [
    "stage_df.age.value_counts()"
   ]
  },
  {
   "cell_type": "code",
   "execution_count": 56,
   "id": "0b09bb74",
   "metadata": {},
   "outputs": [
    {
     "name": "stdout",
     "output_type": "stream",
     "text": [
      "Media de la edad:\n",
      "27.54725741405402\n",
      "Mediana de la edad:\n",
      "27.0\n",
      "Moda de la edad:\n",
      "0    26.0\n",
      "dtype: float64\n",
      "Desviación Estándar de la edad:\n",
      "3.6363056381305694\n"
     ]
    }
   ],
   "source": [
    "# Cálculo para el atributo \"age\" del Dataset stage_df\n",
    "import statistics\n",
    "\n",
    "avg = stage_df[\"age\"].mean()\n",
    "median = stage_df[\"age\"].median()\n",
    "mode = stage_df[\"age\"].mode()\n",
    "stdd = statistics.stdev(stage_df[\"age\"])\n",
    "\n",
    "print(\"Media de la edad:\")\n",
    "print(avg)\n",
    "print(\"Mediana de la edad:\")\n",
    "print(median)\n",
    "print(\"Moda de la edad:\")\n",
    "print(mode)\n",
    "print(\"Desviación Estándar de la edad:\")\n",
    "print(stdd)"
   ]
  },
  {
   "cell_type": "markdown",
   "id": "6f95a2c4",
   "metadata": {},
   "source": [
    "#### - Exercici 2\n",
    "Continuant amb les dades de tema esportiu, selecciona dos atributs i calcula'n la seva correlació. "
   ]
  },
  {
   "cell_type": "code",
   "execution_count": 57,
   "id": "0af747ad",
   "metadata": {},
   "outputs": [
    {
     "data": {
      "text/html": [
       "<div>\n",
       "<style scoped>\n",
       "    .dataframe tbody tr th:only-of-type {\n",
       "        vertical-align: middle;\n",
       "    }\n",
       "\n",
       "    .dataframe tbody tr th {\n",
       "        vertical-align: top;\n",
       "    }\n",
       "\n",
       "    .dataframe thead th {\n",
       "        text-align: right;\n",
       "    }\n",
       "</style>\n",
       "<table border=\"1\" class=\"dataframe\">\n",
       "  <thead>\n",
       "    <tr style=\"text-align: right;\">\n",
       "      <th></th>\n",
       "      <th>edition</th>\n",
       "      <th>year</th>\n",
       "      <th>stage_results_id</th>\n",
       "      <th>rank</th>\n",
       "      <th>time</th>\n",
       "      <th>rider</th>\n",
       "      <th>age</th>\n",
       "      <th>team</th>\n",
       "      <th>points</th>\n",
       "      <th>elapsed</th>\n",
       "      <th>bib_number</th>\n",
       "    </tr>\n",
       "  </thead>\n",
       "  <tbody>\n",
       "    <tr>\n",
       "      <th>0</th>\n",
       "      <td>1</td>\n",
       "      <td>1903</td>\n",
       "      <td>stage-1</td>\n",
       "      <td>1</td>\n",
       "      <td>13S</td>\n",
       "      <td>Garin Maurice</td>\n",
       "      <td>32.0</td>\n",
       "      <td>NaN</td>\n",
       "      <td>100.0</td>\n",
       "      <td>13S</td>\n",
       "      <td>NaN</td>\n",
       "    </tr>\n",
       "  </tbody>\n",
       "</table>\n",
       "</div>"
      ],
      "text/plain": [
       "   edition  year stage_results_id rank time          rider   age team  points  \\\n",
       "0        1  1903          stage-1    1  13S  Garin Maurice  32.0  NaN   100.0   \n",
       "\n",
       "  elapsed  bib_number  \n",
       "0     13S         NaN  "
      ]
     },
     "execution_count": 57,
     "metadata": {},
     "output_type": "execute_result"
    }
   ],
   "source": [
    "stage_df.head(1)"
   ]
  },
  {
   "cell_type": "code",
   "execution_count": 59,
   "id": "bf315165",
   "metadata": {},
   "outputs": [
    {
     "name": "stdout",
     "output_type": "stream",
     "text": [
      "<class 'pandas.core.frame.DataFrame'>\n",
      "Int64Index: 252426 entries, 0 to 255751\n",
      "Data columns (total 11 columns):\n",
      " #   Column            Non-Null Count   Dtype  \n",
      "---  ------            --------------   -----  \n",
      " 0   edition           252426 non-null  int64  \n",
      " 1   year              252426 non-null  int64  \n",
      " 2   stage_results_id  252426 non-null  object \n",
      " 3   rank              252426 non-null  object \n",
      " 4   time              247448 non-null  object \n",
      " 5   rider             252426 non-null  object \n",
      " 6   age               252426 non-null  float64\n",
      " 7   team              231684 non-null  object \n",
      " 8   points            32876 non-null   float64\n",
      " 9   elapsed           247448 non-null  object \n",
      " 10  bib_number        232193 non-null  float64\n",
      "dtypes: float64(3), int64(2), object(6)\n",
      "memory usage: 23.1+ MB\n"
     ]
    }
   ],
   "source": [
    "stage_df.info()"
   ]
  },
  {
   "cell_type": "code",
   "execution_count": 63,
   "id": "46fab201",
   "metadata": {},
   "outputs": [
    {
     "data": {
      "text/plain": [
       "0.22573222697811055"
      ]
     },
     "execution_count": 63,
     "metadata": {},
     "output_type": "execute_result"
    }
   ],
   "source": [
    "# Correlación entre la edad de los competidores y el año de la competición\n",
    "stage_df['age'].corr(stage_df['year'])  # Pearson's r"
   ]
  },
  {
   "cell_type": "markdown",
   "id": "01723de7",
   "metadata": {},
   "source": [
    "Hay una baja correlación positiva entre la edad de los competidores y el año de la carrera."
   ]
  },
  {
   "cell_type": "code",
   "execution_count": 67,
   "id": "8399bca8",
   "metadata": {},
   "outputs": [
    {
     "data": {
      "text/plain": [
       "0.2505716185646941"
      ]
     },
     "execution_count": 67,
     "metadata": {},
     "output_type": "execute_result"
    }
   ],
   "source": [
    "stage_df['age'].corr(stage_df['year'], method='spearman') # Spearman's rho"
   ]
  },
  {
   "cell_type": "code",
   "execution_count": 68,
   "id": "237b6aad",
   "metadata": {},
   "outputs": [
    {
     "data": {
      "text/plain": [
       "0.18030336055352292"
      ]
     },
     "execution_count": 68,
     "metadata": {},
     "output_type": "execute_result"
    }
   ],
   "source": [
    "stage_df['age'].corr(stage_df['year'], method='kendall')  # Kendall's tau"
   ]
  },
  {
   "cell_type": "code",
   "execution_count": 79,
   "id": "5461ad82",
   "metadata": {},
   "outputs": [],
   "source": [
    "winners_df = df.copy()"
   ]
  },
  {
   "cell_type": "code",
   "execution_count": 81,
   "id": "fb5a292e",
   "metadata": {},
   "outputs": [
    {
     "data": {
      "text/plain": [
       "edition           0\n",
       "start_date        0\n",
       "winner_name       0\n",
       "winner_team       0\n",
       "distance          0\n",
       "time_overall      8\n",
       "time_margin       8\n",
       "stage_wins        0\n",
       "stages_led        0\n",
       "height           40\n",
       "weight           39\n",
       "age               0\n",
       "born              0\n",
       "died             50\n",
       "full_name        60\n",
       "nickname         32\n",
       "birth_town        0\n",
       "birth_country     0\n",
       "nationality       0\n",
       "dtype: int64"
      ]
     },
     "execution_count": 81,
     "metadata": {},
     "output_type": "execute_result"
    }
   ],
   "source": [
    "winners_df.isnull().sum()"
   ]
  },
  {
   "cell_type": "code",
   "execution_count": 83,
   "id": "cc919a63",
   "metadata": {},
   "outputs": [],
   "source": [
    "winners_df.dropna(subset=['time_overall'],inplace=True)"
   ]
  },
  {
   "cell_type": "code",
   "execution_count": 84,
   "id": "544bce93",
   "metadata": {},
   "outputs": [
    {
     "data": {
      "text/plain": [
       "edition           0\n",
       "start_date        0\n",
       "winner_name       0\n",
       "winner_team       0\n",
       "distance          0\n",
       "time_overall      0\n",
       "time_margin       0\n",
       "stage_wins        0\n",
       "stages_led        0\n",
       "height           33\n",
       "weight           32\n",
       "age               0\n",
       "born              0\n",
       "died             50\n",
       "full_name        55\n",
       "nickname         28\n",
       "birth_town        0\n",
       "birth_country     0\n",
       "nationality       0\n",
       "dtype: int64"
      ]
     },
     "execution_count": 84,
     "metadata": {},
     "output_type": "execute_result"
    }
   ],
   "source": [
    "winners_df.isnull().sum()"
   ]
  },
  {
   "cell_type": "code",
   "execution_count": 85,
   "id": "f443d57a",
   "metadata": {},
   "outputs": [
    {
     "data": {
      "text/plain": [
       "0.9302104643768295"
      ]
     },
     "execution_count": 85,
     "metadata": {},
     "output_type": "execute_result"
    }
   ],
   "source": [
    "# Correlación entre el tiempo total para terminar na carrera y la distancia total.\n",
    "winners_df['time_overall'].corr(winners_df['distance'])  # Pearson's r"
   ]
  },
  {
   "cell_type": "code",
   "execution_count": 100,
   "id": "1af5b9be",
   "metadata": {},
   "outputs": [
    {
     "data": {
      "image/png": "[encoded data removed]",
      "text/plain": [
       "<Figure size 432x288 with 1 Axes>"
      ]
     },
     "metadata": {
      "needs_background": "light"
     },
     "output_type": "display_data"
    }
   ],
   "source": [
    "from matplotlib import pyplot\n",
    "\n",
    "pyplot.scatter(winners_df['time_overall'], winners_df['distance'])\n",
    "pyplot.show()"
   ]
  },
  {
   "cell_type": "markdown",
   "id": "add1dbbd",
   "metadata": {},
   "source": [
    "Hay una al ta correlación entre el tiempo total y la distancia. Este resultado era esperado, ya que los competidores tardan más para terminar distancias más largas."
   ]
  },
  {
   "cell_type": "markdown",
   "id": "fff73794",
   "metadata": {},
   "source": [
    "### Nivell 2\n",
    "#### - Exercici 3\n",
    "Continuant amb les dades de tema esportiu, calcula la correlació de tots els atributs entre sí i representa'ls en una matriu amb diferents colors d'intensitat."
   ]
  },
  {
   "cell_type": "code",
   "execution_count": 95,
   "id": "3a3b9710",
   "metadata": {},
   "outputs": [
    {
     "data": {
      "text/html": [
       "<div>\n",
       "<style scoped>\n",
       "    .dataframe tbody tr th:only-of-type {\n",
       "        vertical-align: middle;\n",
       "    }\n",
       "\n",
       "    .dataframe tbody tr th {\n",
       "        vertical-align: top;\n",
       "    }\n",
       "\n",
       "    .dataframe thead th {\n",
       "        text-align: right;\n",
       "    }\n",
       "</style>\n",
       "<table border=\"1\" class=\"dataframe\">\n",
       "  <thead>\n",
       "    <tr style=\"text-align: right;\">\n",
       "      <th></th>\n",
       "      <th>edition</th>\n",
       "      <th>year</th>\n",
       "      <th>stage_results_id</th>\n",
       "      <th>rank</th>\n",
       "      <th>time</th>\n",
       "      <th>rider</th>\n",
       "      <th>age</th>\n",
       "      <th>team</th>\n",
       "      <th>points</th>\n",
       "      <th>elapsed</th>\n",
       "      <th>bib_number</th>\n",
       "    </tr>\n",
       "  </thead>\n",
       "  <tbody>\n",
       "    <tr>\n",
       "      <th>0</th>\n",
       "      <td>1</td>\n",
       "      <td>1903</td>\n",
       "      <td>stage-1</td>\n",
       "      <td>1</td>\n",
       "      <td>13S</td>\n",
       "      <td>Garin Maurice</td>\n",
       "      <td>32.0</td>\n",
       "      <td>NaN</td>\n",
       "      <td>100.0</td>\n",
       "      <td>13S</td>\n",
       "      <td>NaN</td>\n",
       "    </tr>\n",
       "    <tr>\n",
       "      <th>1</th>\n",
       "      <td>1</td>\n",
       "      <td>1903</td>\n",
       "      <td>stage-1</td>\n",
       "      <td>2</td>\n",
       "      <td>55S</td>\n",
       "      <td>Pagie Émile</td>\n",
       "      <td>32.0</td>\n",
       "      <td>NaN</td>\n",
       "      <td>70.0</td>\n",
       "      <td>8S</td>\n",
       "      <td>NaN</td>\n",
       "    </tr>\n",
       "    <tr>\n",
       "      <th>2</th>\n",
       "      <td>1</td>\n",
       "      <td>1903</td>\n",
       "      <td>stage-1</td>\n",
       "      <td>3</td>\n",
       "      <td>59S</td>\n",
       "      <td>Georget Léon</td>\n",
       "      <td>23.0</td>\n",
       "      <td>NaN</td>\n",
       "      <td>50.0</td>\n",
       "      <td>12S</td>\n",
       "      <td>NaN</td>\n",
       "    </tr>\n",
       "    <tr>\n",
       "      <th>3</th>\n",
       "      <td>1</td>\n",
       "      <td>1903</td>\n",
       "      <td>stage-1</td>\n",
       "      <td>4</td>\n",
       "      <td>48S</td>\n",
       "      <td>Augereau Fernand</td>\n",
       "      <td>20.0</td>\n",
       "      <td>NaN</td>\n",
       "      <td>40.0</td>\n",
       "      <td>1S</td>\n",
       "      <td>NaN</td>\n",
       "    </tr>\n",
       "    <tr>\n",
       "      <th>4</th>\n",
       "      <td>1</td>\n",
       "      <td>1903</td>\n",
       "      <td>stage-1</td>\n",
       "      <td>5</td>\n",
       "      <td>53S</td>\n",
       "      <td>Fischer Jean</td>\n",
       "      <td>36.0</td>\n",
       "      <td>NaN</td>\n",
       "      <td>32.0</td>\n",
       "      <td>6S</td>\n",
       "      <td>NaN</td>\n",
       "    </tr>\n",
       "  </tbody>\n",
       "</table>\n",
       "</div>"
      ],
      "text/plain": [
       "   edition  year stage_results_id rank time             rider   age  team  \\\n",
       "0        1  1903          stage-1    1  13S     Garin Maurice  32.0   NaN   \n",
       "1        1  1903          stage-1    2  55S       Pagie Émile  32.0   NaN   \n",
       "2        1  1903          stage-1    3  59S      Georget Léon  23.0   NaN   \n",
       "3        1  1903          stage-1    4  48S  Augereau Fernand  20.0   NaN   \n",
       "4        1  1903          stage-1    5  53S      Fischer Jean  36.0   NaN   \n",
       "\n",
       "   points elapsed bib_number  \n",
       "0   100.0     13S        NaN  \n",
       "1    70.0      8S        NaN  \n",
       "2    50.0     12S        NaN  \n",
       "3    40.0      1S        NaN  \n",
       "4    32.0      6S        NaN  "
      ]
     },
     "execution_count": 95,
     "metadata": {},
     "output_type": "execute_result"
    }
   ],
   "source": [
    "# En este ejercicio vamos usar solamente valores numéricos de las columnas relevantes para este ejercício.\n",
    "matrixcorr_df = stages_df.copy()\n",
    "matrixcorr_df.head(5)"
   ]
  },
  {
   "cell_type": "code",
   "execution_count": 96,
   "id": "657790d1",
   "metadata": {},
   "outputs": [
    {
     "data": {
      "text/html": [
       "<div>\n",
       "<style scoped>\n",
       "    .dataframe tbody tr th:only-of-type {\n",
       "        vertical-align: middle;\n",
       "    }\n",
       "\n",
       "    .dataframe tbody tr th {\n",
       "        vertical-align: top;\n",
       "    }\n",
       "\n",
       "    .dataframe thead th {\n",
       "        text-align: right;\n",
       "    }\n",
       "</style>\n",
       "<table border=\"1\" class=\"dataframe\">\n",
       "  <thead>\n",
       "    <tr style=\"text-align: right;\">\n",
       "      <th></th>\n",
       "      <th>edition</th>\n",
       "      <th>year</th>\n",
       "      <th>stage_results_id</th>\n",
       "      <th>rank</th>\n",
       "      <th>age</th>\n",
       "      <th>points</th>\n",
       "    </tr>\n",
       "  </thead>\n",
       "  <tbody>\n",
       "    <tr>\n",
       "      <th>0</th>\n",
       "      <td>1</td>\n",
       "      <td>1903</td>\n",
       "      <td>stage-1</td>\n",
       "      <td>1</td>\n",
       "      <td>32.0</td>\n",
       "      <td>100.0</td>\n",
       "    </tr>\n",
       "  </tbody>\n",
       "</table>\n",
       "</div>"
      ],
      "text/plain": [
       "   edition  year stage_results_id rank   age  points\n",
       "0        1  1903          stage-1    1  32.0   100.0"
      ]
     },
     "execution_count": 96,
     "metadata": {},
     "output_type": "execute_result"
    }
   ],
   "source": [
    "matrixcorr_df.drop(['rider','team','time', 'elapsed','bib_number'], axis = 1, inplace = True)\n",
    "matrixcorr_df.head(1)"
   ]
  },
  {
   "cell_type": "code",
   "execution_count": 97,
   "id": "d1cdc525",
   "metadata": {},
   "outputs": [
    {
     "data": {
      "text/plain": [
       "stage-1      13676\n",
       "stage-2      12960\n",
       "stage-4      12857\n",
       "stage-6      12715\n",
       "stage-3      12694\n",
       "             ...  \n",
       "stage-17b      161\n",
       "stage-15a      158\n",
       "stage-15b      158\n",
       "stage-9b       140\n",
       "stage-9a       140\n",
       "Name: stage_results_id, Length: 67, dtype: int64"
      ]
     },
     "execution_count": 97,
     "metadata": {},
     "output_type": "execute_result"
    }
   ],
   "source": [
    "matrixcorr_df.stage_results_id.value_counts()"
   ]
  },
  {
   "cell_type": "code",
   "execution_count": 98,
   "id": "54ce871f",
   "metadata": {},
   "outputs": [
    {
     "data": {
      "text/html": [
       "<div>\n",
       "<style scoped>\n",
       "    .dataframe tbody tr th:only-of-type {\n",
       "        vertical-align: middle;\n",
       "    }\n",
       "\n",
       "    .dataframe tbody tr th {\n",
       "        vertical-align: top;\n",
       "    }\n",
       "\n",
       "    .dataframe thead th {\n",
       "        text-align: right;\n",
       "    }\n",
       "</style>\n",
       "<table border=\"1\" class=\"dataframe\">\n",
       "  <thead>\n",
       "    <tr style=\"text-align: right;\">\n",
       "      <th></th>\n",
       "      <th>edition</th>\n",
       "      <th>year</th>\n",
       "      <th>rank</th>\n",
       "      <th>age</th>\n",
       "      <th>points</th>\n",
       "    </tr>\n",
       "  </thead>\n",
       "  <tbody>\n",
       "    <tr>\n",
       "      <th>0</th>\n",
       "      <td>1</td>\n",
       "      <td>1903</td>\n",
       "      <td>1</td>\n",
       "      <td>32.0</td>\n",
       "      <td>100.0</td>\n",
       "    </tr>\n",
       "  </tbody>\n",
       "</table>\n",
       "</div>"
      ],
      "text/plain": [
       "   edition  year rank   age  points\n",
       "0        1  1903    1  32.0   100.0"
      ]
     },
     "execution_count": 98,
     "metadata": {},
     "output_type": "execute_result"
    }
   ],
   "source": [
    "matrixcorr_df.drop(['stage_results_id'], axis = 1, inplace = True)\n",
    "matrixcorr_df.head(1)"
   ]
  },
  {
   "cell_type": "markdown",
   "id": "b78d6b33",
   "metadata": {},
   "source": [
    "# matriz de correlación inicial\n",
    "import seaborn as sns\n",
    "\n",
    "sns.heatmap(matrixcorr_df.corr())"
   ]
  },
  {
   "cell_type": "code",
   "execution_count": 168,
   "id": "31a36693",
   "metadata": {},
   "outputs": [
    {
     "data": {
      "text/plain": [
       "<AxesSubplot:>"
      ]
     },
     "execution_count": 168,
     "metadata": {},
     "output_type": "execute_result"
    },
    {
     "data": {
      "image/png": "[encoded data removed]",
      "text/plain": [
       "<Figure size 432x288 with 2 Axes>"
      ]
     },
     "metadata": {
      "needs_background": "light"
     },
     "output_type": "display_data"
    }
   ],
   "source": [
    "# matriz con los valores de la correlacion de los atributos\n",
    "sns.heatmap(matrixcorr_df.corr(), annot = True, vmin=-0.2, vmax=1, center= 0, cmap= 'coolwarm', linewidths=1, linecolor='black', square=True)"
   ]
  },
  {
   "cell_type": "markdown",
   "id": "13a92465",
   "metadata": {},
   "source": [
    "El año y la edición tiene correlación igual a 1 porque hay una edición a cada año. El resultado era esperado \n"
   ]
  },
  {
   "cell_type": "code",
   "execution_count": 177,
   "id": "4ffd8d52",
   "metadata": {},
   "outputs": [
    {
     "data": {
      "text/plain": [
       "<AxesSubplot:>"
      ]
     },
     "execution_count": 177,
     "metadata": {},
     "output_type": "execute_result"
    },
    {
     "data": {
      "image/png": "[encoded data removed]",
      "text/plain": [
       "<Figure size 432x288 with 2 Axes>"
      ]
     },
     "metadata": {
      "needs_background": "light"
     },
     "output_type": "display_data"
    }
   ],
   "source": [
    "# Plot con \"mask\" para dejar el gráfico más claro y la interpretación más fácil.\n",
    "matrix = np.tril(matrixcorr_df.corr())\n",
    "sns.heatmap(matrixcorr_df.corr(), mask = matrix, annot=True, cmap= 'icefire')"
   ]
  },
  {
   "cell_type": "markdown",
   "id": "a3a46b8f",
   "metadata": {},
   "source": [
    "### Nivell 3\n",
    "#### - Exercici 4\n",
    "Continuant amb les dades de tema esportiu, selecciona un atribut i calcula la mitjana geomètrica i la mitjana harmònica."
   ]
  },
  {
   "cell_type": "code",
   "execution_count": 104,
   "id": "82e2f44d",
   "metadata": {},
   "outputs": [
    {
     "name": "stdout",
     "output_type": "stream",
     "text": [
      "<class 'pandas.core.frame.DataFrame'>\n",
      "RangeIndex: 255752 entries, 0 to 255751\n",
      "Data columns (total 5 columns):\n",
      " #   Column   Non-Null Count   Dtype  \n",
      "---  ------   --------------   -----  \n",
      " 0   edition  255752 non-null  int64  \n",
      " 1   year     255752 non-null  int64  \n",
      " 2   rank     255752 non-null  object \n",
      " 3   age      252426 non-null  float64\n",
      " 4   points   33006 non-null   float64\n",
      "dtypes: float64(2), int64(2), object(1)\n",
      "memory usage: 9.8+ MB\n"
     ]
    }
   ],
   "source": [
    "matrixcorr_df.info()"
   ]
  },
  {
   "cell_type": "code",
   "execution_count": 109,
   "id": "dec9f39e",
   "metadata": {},
   "outputs": [
    {
     "data": {
      "text/plain": [
       "edition         0\n",
       "year            0\n",
       "rank            0\n",
       "age          3326\n",
       "points     222746\n",
       "dtype: int64"
      ]
     },
     "execution_count": 109,
     "metadata": {},
     "output_type": "execute_result"
    }
   ],
   "source": [
    "matrixcorr_df.isnull().sum()"
   ]
  },
  {
   "cell_type": "code",
   "execution_count": 110,
   "id": "bd93a93f",
   "metadata": {},
   "outputs": [],
   "source": [
    "matrixcorr_df.dropna(subset=['age'],inplace=True)"
   ]
  },
  {
   "cell_type": "code",
   "execution_count": 111,
   "id": "62d24971",
   "metadata": {},
   "outputs": [
    {
     "data": {
      "text/plain": [
       "edition         0\n",
       "year            0\n",
       "rank            0\n",
       "age             0\n",
       "points     219550\n",
       "dtype: int64"
      ]
     },
     "execution_count": 111,
     "metadata": {},
     "output_type": "execute_result"
    }
   ],
   "source": [
    "matrixcorr_df.isnull().sum()"
   ]
  },
  {
   "cell_type": "code",
   "execution_count": 112,
   "id": "8e2c6f31",
   "metadata": {},
   "outputs": [
    {
     "data": {
      "text/plain": [
       "27.31453616966724"
      ]
     },
     "execution_count": 112,
     "metadata": {},
     "output_type": "execute_result"
    }
   ],
   "source": [
    "# Média geométrica de la edad\n",
    "from scipy.stats import gmean\n",
    "\n",
    "gmean(matrixcorr_df['age'])"
   ]
  },
  {
   "cell_type": "code",
   "execution_count": 114,
   "id": "2a95c006",
   "metadata": {},
   "outputs": [
    {
     "data": {
      "text/plain": [
       "27.088459250558294"
      ]
     },
     "execution_count": 114,
     "metadata": {},
     "output_type": "execute_result"
    }
   ],
   "source": [
    "# Média armónica de la edad\n",
    "from scipy.stats import hmean\n",
    "hmean(matrixcorr_df['age'])"
   ]
  },
  {
   "cell_type": "code",
   "execution_count": 117,
   "id": "ac23868f",
   "metadata": {},
   "outputs": [
    {
     "data": {
      "text/plain": [
       "26.0     2376\n",
       "40.0     2251\n",
       "32.0     2232\n",
       "18.0     2217\n",
       "50.0     2204\n",
       "22.0     2179\n",
       "14.0     2175\n",
       "100.0    2173\n",
       "70.0     2171\n",
       "6.0      2156\n",
       "10.0     2154\n",
       "8.0      2150\n",
       "1.0      2149\n",
       "4.0      2147\n",
       "2.0      2142\n",
       "Name: points, dtype: int64"
      ]
     },
     "execution_count": 117,
     "metadata": {},
     "output_type": "execute_result"
    }
   ],
   "source": [
    "matrixcorr_df['points'].value_counts()"
   ]
  },
  {
   "cell_type": "code",
   "execution_count": 119,
   "id": "d014b208",
   "metadata": {},
   "outputs": [],
   "source": [
    "matrixcorr_df.dropna(subset=['points'],inplace=True)"
   ]
  },
  {
   "cell_type": "code",
   "execution_count": 122,
   "id": "de8d8300",
   "metadata": {},
   "outputs": [
    {
     "data": {
      "text/plain": [
       "14.657740324258496"
      ]
     },
     "execution_count": 122,
     "metadata": {},
     "output_type": "execute_result"
    }
   ],
   "source": [
    "# Média geométrica de los puntos de cada competidor\n",
    "gmean(matrixcorr_df['points'])"
   ]
  },
  {
   "cell_type": "code",
   "execution_count": 121,
   "id": "4243555e",
   "metadata": {},
   "outputs": [
    {
     "data": {
      "text/plain": [
       "6.212353223434725"
      ]
     },
     "execution_count": 121,
     "metadata": {},
     "output_type": "execute_result"
    }
   ],
   "source": [
    "# Média armónica de los puntos de cada competidor\n",
    "hmean(matrixcorr_df['points'])"
   ]
  },
  {
   "cell_type": "code",
   "execution_count": 123,
   "id": "982deeaf",
   "metadata": {},
   "outputs": [
    {
     "data": {
      "text/html": [
       "<div>\n",
       "<style scoped>\n",
       "    .dataframe tbody tr th:only-of-type {\n",
       "        vertical-align: middle;\n",
       "    }\n",
       "\n",
       "    .dataframe tbody tr th {\n",
       "        vertical-align: top;\n",
       "    }\n",
       "\n",
       "    .dataframe thead th {\n",
       "        text-align: right;\n",
       "    }\n",
       "</style>\n",
       "<table border=\"1\" class=\"dataframe\">\n",
       "  <thead>\n",
       "    <tr style=\"text-align: right;\">\n",
       "      <th></th>\n",
       "      <th>edition</th>\n",
       "      <th>start_date</th>\n",
       "      <th>winner_name</th>\n",
       "      <th>winner_team</th>\n",
       "      <th>distance</th>\n",
       "      <th>time_overall</th>\n",
       "      <th>time_margin</th>\n",
       "      <th>stage_wins</th>\n",
       "      <th>stages_led</th>\n",
       "      <th>height</th>\n",
       "      <th>weight</th>\n",
       "      <th>age</th>\n",
       "      <th>born</th>\n",
       "      <th>died</th>\n",
       "      <th>full_name</th>\n",
       "      <th>nickname</th>\n",
       "      <th>birth_town</th>\n",
       "      <th>birth_country</th>\n",
       "      <th>nationality</th>\n",
       "    </tr>\n",
       "  </thead>\n",
       "  <tbody>\n",
       "    <tr>\n",
       "      <th>0</th>\n",
       "      <td>1</td>\n",
       "      <td>1903-07-01</td>\n",
       "      <td>Maurice Garin</td>\n",
       "      <td>La Française</td>\n",
       "      <td>2428.0</td>\n",
       "      <td>94.553889</td>\n",
       "      <td>2.989167</td>\n",
       "      <td>3</td>\n",
       "      <td>6</td>\n",
       "      <td>1.62</td>\n",
       "      <td>60.0</td>\n",
       "      <td>32</td>\n",
       "      <td>1871-03-03</td>\n",
       "      <td>1957-02-19</td>\n",
       "      <td>NaN</td>\n",
       "      <td>The Little Chimney-sweep</td>\n",
       "      <td>Arvier</td>\n",
       "      <td>Italy</td>\n",
       "      <td>France</td>\n",
       "    </tr>\n",
       "  </tbody>\n",
       "</table>\n",
       "</div>"
      ],
      "text/plain": [
       "   edition  start_date    winner_name   winner_team  distance  time_overall  \\\n",
       "0        1  1903-07-01  Maurice Garin  La Française    2428.0     94.553889   \n",
       "\n",
       "   time_margin  stage_wins  stages_led  height  weight  age        born  \\\n",
       "0     2.989167           3           6    1.62    60.0   32  1871-03-03   \n",
       "\n",
       "         died full_name                  nickname birth_town birth_country  \\\n",
       "0  1957-02-19       NaN  The Little Chimney-sweep     Arvier         Italy   \n",
       "\n",
       "  nationality  \n",
       "0      France  "
      ]
     },
     "execution_count": 123,
     "metadata": {},
     "output_type": "execute_result"
    }
   ],
   "source": [
    "winners_df.head(1)"
   ]
  },
  {
   "cell_type": "code",
   "execution_count": 125,
   "id": "741db02f",
   "metadata": {},
   "outputs": [
    {
     "data": {
      "text/plain": [
       "edition           0\n",
       "start_date        0\n",
       "winner_name       0\n",
       "winner_team       0\n",
       "distance          0\n",
       "time_overall      0\n",
       "time_margin       0\n",
       "stage_wins        0\n",
       "stages_led        0\n",
       "height           33\n",
       "weight           32\n",
       "age               0\n",
       "born              0\n",
       "died             50\n",
       "full_name        55\n",
       "nickname         28\n",
       "birth_town        0\n",
       "birth_country     0\n",
       "nationality       0\n",
       "dtype: int64"
      ]
     },
     "execution_count": 125,
     "metadata": {},
     "output_type": "execute_result"
    }
   ],
   "source": [
    "winners_df.isnull().sum()"
   ]
  },
  {
   "cell_type": "code",
   "execution_count": 133,
   "id": "86abece4",
   "metadata": {},
   "outputs": [
    {
     "data": {
      "text/plain": [
       "edition           0\n",
       "start_date        0\n",
       "winner_name       0\n",
       "winner_team       0\n",
       "distance          0\n",
       "time_overall      0\n",
       "time_margin       0\n",
       "stage_wins        0\n",
       "stages_led        0\n",
       "height            1\n",
       "weight            0\n",
       "age               0\n",
       "born              0\n",
       "died             45\n",
       "full_name        25\n",
       "nickname          7\n",
       "birth_town        0\n",
       "birth_country     0\n",
       "nationality       0\n",
       "dtype: int64"
      ]
     },
     "execution_count": 133,
     "metadata": {},
     "output_type": "execute_result"
    }
   ],
   "source": [
    "winners_new = winners_df.dropna(subset=['height'])\n",
    "winners_new = winners_df.dropna(subset=['weight'])\n",
    "winners_new.isnull().sum()"
   ]
  },
  {
   "cell_type": "code",
   "execution_count": 138,
   "id": "93da0b46",
   "metadata": {},
   "outputs": [
    {
     "data": {
      "text/plain": [
       "1.86    10\n",
       "1.77    10\n",
       "1.74     8\n",
       "1.76     7\n",
       "1.82     6\n",
       "1.72     3\n",
       "1.73     3\n",
       "1.78     3\n",
       "1.79     3\n",
       "1.75     2\n",
       "1.83     2\n",
       "1.71     1\n",
       "1.62     1\n",
       "1.84     1\n",
       "1.80     1\n",
       "1.90     1\n",
       "1.81     1\n",
       "1.65     1\n",
       "1.61     1\n",
       "Name: height, dtype: int64"
      ]
     },
     "execution_count": 138,
     "metadata": {},
     "output_type": "execute_result"
    }
   ],
   "source": [
    "winners_new.height.value_counts()"
   ]
  },
  {
   "cell_type": "code",
   "execution_count": 135,
   "id": "ee7fda69",
   "metadata": {},
   "outputs": [
    {
     "data": {
      "text/plain": [
       "68.6870275541121"
      ]
     },
     "execution_count": 135,
     "metadata": {},
     "output_type": "execute_result"
    }
   ],
   "source": [
    "# Média geométrica del peso de los vencedores\n",
    "gmean(winners_new['weight'])"
   ]
  },
  {
   "cell_type": "code",
   "execution_count": 136,
   "id": "11847ff6",
   "metadata": {},
   "outputs": [
    {
     "data": {
      "text/plain": [
       "68.39714072563314"
      ]
     },
     "execution_count": 136,
     "metadata": {},
     "output_type": "execute_result"
    }
   ],
   "source": [
    "# Média armónica del peso de los vencedores\n",
    "hmean(winners_new['weight'])"
   ]
  },
  {
   "cell_type": "code",
   "execution_count": 143,
   "id": "03b3716d",
   "metadata": {},
   "outputs": [
    {
     "name": "stdout",
     "output_type": "stream",
     "text": [
      "<class 'pandas.core.frame.DataFrame'>\n",
      "Int64Index: 66 entries, 0 to 105\n",
      "Data columns (total 19 columns):\n",
      " #   Column         Non-Null Count  Dtype  \n",
      "---  ------         --------------  -----  \n",
      " 0   edition        66 non-null     int64  \n",
      " 1   start_date     66 non-null     object \n",
      " 2   winner_name    66 non-null     object \n",
      " 3   winner_team    66 non-null     object \n",
      " 4   distance       66 non-null     float64\n",
      " 5   time_overall   66 non-null     float64\n",
      " 6   time_margin    66 non-null     float64\n",
      " 7   stage_wins     66 non-null     int64  \n",
      " 8   stages_led     66 non-null     int64  \n",
      " 9   height         65 non-null     float64\n",
      " 10  weight         66 non-null     float64\n",
      " 11  age            66 non-null     int64  \n",
      " 12  born           66 non-null     object \n",
      " 13  died           21 non-null     object \n",
      " 14  full_name      41 non-null     object \n",
      " 15  nickname       59 non-null     object \n",
      " 16  birth_town     66 non-null     object \n",
      " 17  birth_country  66 non-null     object \n",
      " 18  nationality    66 non-null     object \n",
      "dtypes: float64(5), int64(4), object(10)\n",
      "memory usage: 10.3+ KB\n"
     ]
    }
   ],
   "source": [
    "winners_new.info()"
   ]
  },
  {
   "cell_type": "code",
   "execution_count": 147,
   "id": "2e30ac1f",
   "metadata": {},
   "outputs": [
    {
     "data": {
      "text/html": [
       "<div>\n",
       "<style scoped>\n",
       "    .dataframe tbody tr th:only-of-type {\n",
       "        vertical-align: middle;\n",
       "    }\n",
       "\n",
       "    .dataframe tbody tr th {\n",
       "        vertical-align: top;\n",
       "    }\n",
       "\n",
       "    .dataframe thead th {\n",
       "        text-align: right;\n",
       "    }\n",
       "</style>\n",
       "<table border=\"1\" class=\"dataframe\">\n",
       "  <thead>\n",
       "    <tr style=\"text-align: right;\">\n",
       "      <th></th>\n",
       "      <th>edition</th>\n",
       "      <th>start_date</th>\n",
       "      <th>winner_name</th>\n",
       "      <th>winner_team</th>\n",
       "      <th>distance</th>\n",
       "      <th>time_overall</th>\n",
       "      <th>time_margin</th>\n",
       "      <th>stage_wins</th>\n",
       "      <th>stages_led</th>\n",
       "      <th>height</th>\n",
       "      <th>weight</th>\n",
       "      <th>age</th>\n",
       "      <th>born</th>\n",
       "      <th>died</th>\n",
       "      <th>full_name</th>\n",
       "      <th>nickname</th>\n",
       "      <th>birth_town</th>\n",
       "      <th>birth_country</th>\n",
       "      <th>nationality</th>\n",
       "    </tr>\n",
       "  </thead>\n",
       "  <tbody>\n",
       "    <tr>\n",
       "      <th>0</th>\n",
       "      <td>1</td>\n",
       "      <td>1903-07-01</td>\n",
       "      <td>Maurice Garin</td>\n",
       "      <td>La Française</td>\n",
       "      <td>2428.0</td>\n",
       "      <td>94.553889</td>\n",
       "      <td>2.989167</td>\n",
       "      <td>3</td>\n",
       "      <td>6</td>\n",
       "      <td>1.62</td>\n",
       "      <td>60.0</td>\n",
       "      <td>32</td>\n",
       "      <td>1871-03-03</td>\n",
       "      <td>1957-02-19</td>\n",
       "      <td>NaN</td>\n",
       "      <td>The Little Chimney-sweep</td>\n",
       "      <td>Arvier</td>\n",
       "      <td>Italy</td>\n",
       "      <td>France</td>\n",
       "    </tr>\n",
       "    <tr>\n",
       "      <th>31</th>\n",
       "      <td>32</td>\n",
       "      <td>1938-07-05</td>\n",
       "      <td>Gino Bartali</td>\n",
       "      <td>Italy</td>\n",
       "      <td>4694.0</td>\n",
       "      <td>148.486667</td>\n",
       "      <td>0.305000</td>\n",
       "      <td>2</td>\n",
       "      <td>8</td>\n",
       "      <td>1.72</td>\n",
       "      <td>66.0</td>\n",
       "      <td>23</td>\n",
       "      <td>1914-07-18</td>\n",
       "      <td>2000-05-05</td>\n",
       "      <td>NaN</td>\n",
       "      <td>Gino the Pious, Ginettaccio, L'uomo di ferro, ...</td>\n",
       "      <td>Ponte e Ema</td>\n",
       "      <td>Italy</td>\n",
       "      <td>Italy</td>\n",
       "    </tr>\n",
       "    <tr>\n",
       "      <th>33</th>\n",
       "      <td>34</td>\n",
       "      <td>1947-06-25</td>\n",
       "      <td>Jean Robic</td>\n",
       "      <td>France</td>\n",
       "      <td>4642.0</td>\n",
       "      <td>148.190278</td>\n",
       "      <td>0.050833</td>\n",
       "      <td>3</td>\n",
       "      <td>1</td>\n",
       "      <td>1.61</td>\n",
       "      <td>60.0</td>\n",
       "      <td>26</td>\n",
       "      <td>1921-06-10</td>\n",
       "      <td>1980-10-06</td>\n",
       "      <td>NaN</td>\n",
       "      <td>Biquet (Kid goat), Tête de cuir (Leather-head)...</td>\n",
       "      <td>Vouziers</td>\n",
       "      <td>France</td>\n",
       "      <td>France</td>\n",
       "    </tr>\n",
       "    <tr>\n",
       "      <th>34</th>\n",
       "      <td>35</td>\n",
       "      <td>1948-06-30</td>\n",
       "      <td>Gino Bartali</td>\n",
       "      <td>Italy</td>\n",
       "      <td>4922.0</td>\n",
       "      <td>147.176667</td>\n",
       "      <td>0.440556</td>\n",
       "      <td>7</td>\n",
       "      <td>9</td>\n",
       "      <td>1.72</td>\n",
       "      <td>66.0</td>\n",
       "      <td>33</td>\n",
       "      <td>1914-07-18</td>\n",
       "      <td>2000-05-05</td>\n",
       "      <td>NaN</td>\n",
       "      <td>Gino the Pious, Ginettaccio, L'uomo di ferro, ...</td>\n",
       "      <td>Ponte e Ema</td>\n",
       "      <td>Italy</td>\n",
       "      <td>Italy</td>\n",
       "    </tr>\n",
       "    <tr>\n",
       "      <th>35</th>\n",
       "      <td>36</td>\n",
       "      <td>1949-06-30</td>\n",
       "      <td>Fausto Coppi</td>\n",
       "      <td>Italy</td>\n",
       "      <td>4808.0</td>\n",
       "      <td>149.680278</td>\n",
       "      <td>0.169444</td>\n",
       "      <td>3</td>\n",
       "      <td>5</td>\n",
       "      <td>1.77</td>\n",
       "      <td>68.0</td>\n",
       "      <td>29</td>\n",
       "      <td>1919-09-15</td>\n",
       "      <td>1960-01-02</td>\n",
       "      <td>Angelo Fausto Coppi</td>\n",
       "      <td>The Heron,Il Campionissimo\\n(Champion of Champ...</td>\n",
       "      <td>Castellania</td>\n",
       "      <td>Italy</td>\n",
       "      <td>Italy</td>\n",
       "    </tr>\n",
       "    <tr>\n",
       "      <th>...</th>\n",
       "      <td>...</td>\n",
       "      <td>...</td>\n",
       "      <td>...</td>\n",
       "      <td>...</td>\n",
       "      <td>...</td>\n",
       "      <td>...</td>\n",
       "      <td>...</td>\n",
       "      <td>...</td>\n",
       "      <td>...</td>\n",
       "      <td>...</td>\n",
       "      <td>...</td>\n",
       "      <td>...</td>\n",
       "      <td>...</td>\n",
       "      <td>...</td>\n",
       "      <td>...</td>\n",
       "      <td>...</td>\n",
       "      <td>...</td>\n",
       "      <td>...</td>\n",
       "      <td>...</td>\n",
       "    </tr>\n",
       "    <tr>\n",
       "      <th>101</th>\n",
       "      <td>102</td>\n",
       "      <td>2015-07-04</td>\n",
       "      <td>Chris Froome</td>\n",
       "      <td>Team Sky</td>\n",
       "      <td>3360.3</td>\n",
       "      <td>84.770556</td>\n",
       "      <td>0.016944</td>\n",
       "      <td>1</td>\n",
       "      <td>16</td>\n",
       "      <td>1.86</td>\n",
       "      <td>69.0</td>\n",
       "      <td>30</td>\n",
       "      <td>1985-05-20</td>\n",
       "      <td>NaN</td>\n",
       "      <td>Christopher Clive Froome</td>\n",
       "      <td>Froomey</td>\n",
       "      <td>Nairobi</td>\n",
       "      <td>Kenya</td>\n",
       "      <td>Great Britain</td>\n",
       "    </tr>\n",
       "    <tr>\n",
       "      <th>102</th>\n",
       "      <td>103</td>\n",
       "      <td>2016-07-02</td>\n",
       "      <td>Chris Froome</td>\n",
       "      <td>Team Sky</td>\n",
       "      <td>3529.0</td>\n",
       "      <td>89.080000</td>\n",
       "      <td>0.067778</td>\n",
       "      <td>2</td>\n",
       "      <td>14</td>\n",
       "      <td>1.86</td>\n",
       "      <td>69.0</td>\n",
       "      <td>31</td>\n",
       "      <td>1985-05-20</td>\n",
       "      <td>NaN</td>\n",
       "      <td>Christopher Clive Froome</td>\n",
       "      <td>Froomey</td>\n",
       "      <td>Nairobi</td>\n",
       "      <td>Kenya</td>\n",
       "      <td>Great Britain</td>\n",
       "    </tr>\n",
       "    <tr>\n",
       "      <th>103</th>\n",
       "      <td>104</td>\n",
       "      <td>2017-07-01</td>\n",
       "      <td>Chris Froome</td>\n",
       "      <td>Team Sky</td>\n",
       "      <td>3540.0</td>\n",
       "      <td>86.348611</td>\n",
       "      <td>0.015000</td>\n",
       "      <td>0</td>\n",
       "      <td>15</td>\n",
       "      <td>1.86</td>\n",
       "      <td>69.0</td>\n",
       "      <td>32</td>\n",
       "      <td>1985-05-20</td>\n",
       "      <td>NaN</td>\n",
       "      <td>Christopher Clive Froome</td>\n",
       "      <td>Froomey</td>\n",
       "      <td>Nairobi</td>\n",
       "      <td>Kenya</td>\n",
       "      <td>Great Britain</td>\n",
       "    </tr>\n",
       "    <tr>\n",
       "      <th>104</th>\n",
       "      <td>105</td>\n",
       "      <td>2018-07-07</td>\n",
       "      <td>Geraint Thomas</td>\n",
       "      <td>Team Sky</td>\n",
       "      <td>3349.0</td>\n",
       "      <td>83.286944</td>\n",
       "      <td>0.016944</td>\n",
       "      <td>2</td>\n",
       "      <td>11</td>\n",
       "      <td>1.83</td>\n",
       "      <td>71.0</td>\n",
       "      <td>32</td>\n",
       "      <td>1986-05-25</td>\n",
       "      <td>NaN</td>\n",
       "      <td>Geraint Howell Thomas</td>\n",
       "      <td>G</td>\n",
       "      <td>Cardiff</td>\n",
       "      <td>Wales</td>\n",
       "      <td>Great Britain</td>\n",
       "    </tr>\n",
       "    <tr>\n",
       "      <th>105</th>\n",
       "      <td>106</td>\n",
       "      <td>2019-07-06</td>\n",
       "      <td>Egan Bernal</td>\n",
       "      <td>Team Ineos</td>\n",
       "      <td>3349.0</td>\n",
       "      <td>82.950000</td>\n",
       "      <td>0.016944</td>\n",
       "      <td>0</td>\n",
       "      <td>2</td>\n",
       "      <td>1.75</td>\n",
       "      <td>60.0</td>\n",
       "      <td>22</td>\n",
       "      <td>1997-01-13</td>\n",
       "      <td>NaN</td>\n",
       "      <td>Egan Arley Bernal Gómez</td>\n",
       "      <td>NaN</td>\n",
       "      <td>Bogotá</td>\n",
       "      <td>Columbia</td>\n",
       "      <td>Colombia</td>\n",
       "    </tr>\n",
       "  </tbody>\n",
       "</table>\n",
       "<p>66 rows × 19 columns</p>\n",
       "</div>"
      ],
      "text/plain": [
       "     edition  start_date     winner_name   winner_team  distance  \\\n",
       "0          1  1903-07-01   Maurice Garin  La Française    2428.0   \n",
       "31        32  1938-07-05    Gino Bartali         Italy    4694.0   \n",
       "33        34  1947-06-25      Jean Robic        France    4642.0   \n",
       "34        35  1948-06-30    Gino Bartali         Italy    4922.0   \n",
       "35        36  1949-06-30    Fausto Coppi         Italy    4808.0   \n",
       "..       ...         ...             ...           ...       ...   \n",
       "101      102  2015-07-04    Chris Froome      Team Sky    3360.3   \n",
       "102      103  2016-07-02    Chris Froome      Team Sky    3529.0   \n",
       "103      104  2017-07-01    Chris Froome      Team Sky    3540.0   \n",
       "104      105  2018-07-07  Geraint Thomas      Team Sky    3349.0   \n",
       "105      106  2019-07-06     Egan Bernal    Team Ineos    3349.0   \n",
       "\n",
       "     time_overall  time_margin  stage_wins  stages_led  height  weight  age  \\\n",
       "0       94.553889     2.989167           3           6    1.62    60.0   32   \n",
       "31     148.486667     0.305000           2           8    1.72    66.0   23   \n",
       "33     148.190278     0.050833           3           1    1.61    60.0   26   \n",
       "34     147.176667     0.440556           7           9    1.72    66.0   33   \n",
       "35     149.680278     0.169444           3           5    1.77    68.0   29   \n",
       "..            ...          ...         ...         ...     ...     ...  ...   \n",
       "101     84.770556     0.016944           1          16    1.86    69.0   30   \n",
       "102     89.080000     0.067778           2          14    1.86    69.0   31   \n",
       "103     86.348611     0.015000           0          15    1.86    69.0   32   \n",
       "104     83.286944     0.016944           2          11    1.83    71.0   32   \n",
       "105     82.950000     0.016944           0           2    1.75    60.0   22   \n",
       "\n",
       "           born        died                 full_name  \\\n",
       "0    1871-03-03  1957-02-19                       NaN   \n",
       "31   1914-07-18  2000-05-05                       NaN   \n",
       "33   1921-06-10  1980-10-06                       NaN   \n",
       "34   1914-07-18  2000-05-05                       NaN   \n",
       "35   1919-09-15  1960-01-02       Angelo Fausto Coppi   \n",
       "..          ...         ...                       ...   \n",
       "101  1985-05-20         NaN  Christopher Clive Froome   \n",
       "102  1985-05-20         NaN  Christopher Clive Froome   \n",
       "103  1985-05-20         NaN  Christopher Clive Froome   \n",
       "104  1986-05-25         NaN     Geraint Howell Thomas   \n",
       "105  1997-01-13         NaN   Egan Arley Bernal Gómez   \n",
       "\n",
       "                                              nickname   birth_town  \\\n",
       "0                             The Little Chimney-sweep       Arvier   \n",
       "31   Gino the Pious, Ginettaccio, L'uomo di ferro, ...  Ponte e Ema   \n",
       "33   Biquet (Kid goat), Tête de cuir (Leather-head)...     Vouziers   \n",
       "34   Gino the Pious, Ginettaccio, L'uomo di ferro, ...  Ponte e Ema   \n",
       "35   The Heron,Il Campionissimo\\n(Champion of Champ...  Castellania   \n",
       "..                                                 ...          ...   \n",
       "101                                            Froomey      Nairobi   \n",
       "102                                            Froomey      Nairobi   \n",
       "103                                            Froomey      Nairobi   \n",
       "104                                                  G      Cardiff   \n",
       "105                                                NaN       Bogotá   \n",
       "\n",
       "    birth_country     nationality  \n",
       "0           Italy          France  \n",
       "31          Italy           Italy  \n",
       "33         France          France  \n",
       "34          Italy           Italy  \n",
       "35          Italy           Italy  \n",
       "..            ...             ...  \n",
       "101         Kenya   Great Britain  \n",
       "102         Kenya   Great Britain  \n",
       "103         Kenya   Great Britain  \n",
       "104         Wales   Great Britain  \n",
       "105      Columbia        Colombia  \n",
       "\n",
       "[66 rows x 19 columns]"
      ]
     },
     "execution_count": 147,
     "metadata": {},
     "output_type": "execute_result"
    }
   ],
   "source": [
    "winners_new"
   ]
  },
  {
   "cell_type": "code",
   "execution_count": 148,
   "id": "113f7417",
   "metadata": {},
   "outputs": [],
   "source": [
    "pd.set_option('display.max_rows', None)"
   ]
  },
  {
   "cell_type": "code",
   "execution_count": 155,
   "id": "5b7d99ff",
   "metadata": {},
   "outputs": [],
   "source": [
    "winners_new.drop((62),inplace=True)"
   ]
  },
  {
   "cell_type": "code",
   "execution_count": 156,
   "id": "f230c87e",
   "metadata": {},
   "outputs": [
    {
     "data": {
      "text/plain": [
       "edition           0\n",
       "start_date        0\n",
       "winner_name       0\n",
       "winner_team       0\n",
       "distance          0\n",
       "time_overall      0\n",
       "time_margin       0\n",
       "stage_wins        0\n",
       "stages_led        0\n",
       "height            0\n",
       "weight            0\n",
       "age               0\n",
       "born              0\n",
       "died             44\n",
       "full_name        24\n",
       "nickname          7\n",
       "birth_town        0\n",
       "birth_country     0\n",
       "nationality       0\n",
       "dtype: int64"
      ]
     },
     "execution_count": 156,
     "metadata": {},
     "output_type": "execute_result"
    }
   ],
   "source": [
    "winners_new.isnull().sum()"
   ]
  },
  {
   "cell_type": "code",
   "execution_count": 157,
   "id": "f2347147",
   "metadata": {},
   "outputs": [
    {
     "data": {
      "text/plain": [
       "1.7778471675699512"
      ]
     },
     "execution_count": 157,
     "metadata": {},
     "output_type": "execute_result"
    }
   ],
   "source": [
    "# Média geométrica de la altura de los vencedores\n",
    "gmean(winners_new['height'])"
   ]
  },
  {
   "cell_type": "code",
   "execution_count": 158,
   "id": "3305beb2",
   "metadata": {},
   "outputs": [
    {
     "data": {
      "text/plain": [
       "1.7769152950203588"
      ]
     },
     "execution_count": 158,
     "metadata": {},
     "output_type": "execute_result"
    }
   ],
   "source": [
    "# Média armónica de la altura de los vencedores\n",
    "hmean(winners_new['height'])"
   ]
  }
 ],
 "metadata": {
  "kernelspec": {
   "display_name": "Python 3",
   "language": "python",
   "name": "python3"
  },
  "language_info": {
   "codemirror_mode": {
    "name": "ipython",
    "version": 3
   },
   "file_extension": ".py",
   "mimetype": "text/x-python",
   "name": "python",
   "nbconvert_exporter": "python",
   "pygments_lexer": "ipython3",
   "version": "3.8.5"
  },
  "latex_envs": {
   "LaTeX_envs_menu_present": true,
   "autoclose": false,
   "autocomplete": true,
   "bibliofile": "biblio.bib",
   "cite_by": "apalike",
   "current_citInitial": 1,
   "eqLabelWithNumbers": true,
   "eqNumInitial": 1,
   "hotkeys": {
    "equation": "Ctrl-E",
    "itemize": "Ctrl-I"
   },
   "labels_anchors": false,
   "latex_user_defs": false,
   "report_style_numbering": false,
   "user_envs_cfg": false
  }
 },
 "nbformat": 4,
 "nbformat_minor": 5
}
